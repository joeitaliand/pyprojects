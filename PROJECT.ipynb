{
 "cells": [
  {
   "cell_type": "code",
   "execution_count": 4,
   "metadata": {
    "collapsed": true
   },
   "outputs": [],
   "source": [
    "import pandas as pd\n",
    "import numpy as np"
   ]
  },
  {
   "cell_type": "code",
   "execution_count": 5,
   "metadata": {
    "collapsed": true
   },
   "outputs": [],
   "source": [
    "import tweepy\n",
    "from tweepy import OAuthHandler\n",
    " \n",
    "consumer_key = '0Ouc8jfN8Nb3AIqEXKefdWfUG'\n",
    "consumer_secret = 'AZ6KA5WUsOh7kQSNvv7IdrX2wudZhVNxSXKDMTtLSbAImdzVzw'\n",
    "access_token = '4721235721-JXYaEZ4xIZltEUQpT1XXN6zmnI7Afka6nkuZGm3'\n",
    "access_secret = 'UMJDL63pvwIt5bj1mlDWvAmLGmhkNPLet2D6qTqbSriEm'\n",
    " \n",
    "\n",
    "auth = OAuthHandler(consumer_key, consumer_secret)\n",
    "auth.set_access_token(access_token, access_secret)\n",
    " \n",
    "\n",
    "\n",
    "api = tweepy.API(auth)"
   ]
  },
  {
   "cell_type": "code",
   "execution_count": 34,
   "metadata": {
    "collapsed": false
   },
   "outputs": [
    {
     "name": "stdout",
     "output_type": "stream",
     "text": [
      "<type 'list'>\n",
      "1\n"
     ]
    }
   ],
   "source": [
    "results = []\n",
    "for tweet in tweepy.Cursor(api.search, q='%23test432').items(500):\n",
    "    results.append(tweet)\n",
    "\n",
    "print type(results)\n",
    "print len(results)"
   ]
  },
  {
   "cell_type": "code",
   "execution_count": 35,
   "metadata": {
    "collapsed": false
   },
   "outputs": [],
   "source": [
    "def toDataFrame(tweets):\n",
    "\n",
    "    DataSet = pd.DataFrame()\n",
    "\n",
    "    DataSet['tweetID'] = [tweet.id for tweet in tweets]\n",
    "    DataSet['tweetText'] = [tweet.text for tweet in tweets]\n",
    "    DataSet['tweetRetweetCt'] = [tweet.retweet_count for tweet \n",
    "    in tweets]\n",
    "    DataSet['tweetFavoriteCt'] = [tweet.favorite_count for tweet \n",
    "    in tweets]\n",
    "    DataSet['tweetSource'] = [tweet.source for tweet in tweets]\n",
    "    DataSet['tweetCreated'] = [tweet.created_at for tweet in tweets]\n",
    "\n",
    "\n",
    "    DataSet['userID'] = [tweet.user.id for tweet in tweets]\n",
    "    DataSet['userScreen'] = [tweet.user.screen_name for tweet \n",
    "    in tweets]\n",
    "    DataSet['userName'] = [tweet.user.name for tweet in tweets]\n",
    "    DataSet['userCreateDt'] = [tweet.user.created_at for tweet \n",
    "    in tweets]\n",
    "    DataSet['userDesc'] = [tweet.user.description for tweet in tweets]\n",
    "    DataSet['userFollowerCt'] = [tweet.user.followers_count for tweet \n",
    "    in tweets]\n",
    "    DataSet['userFriendsCt'] = [tweet.user.friends_count for tweet \n",
    "    in tweets]\n",
    "    DataSet['userLocation'] = [tweet.user.location for tweet in tweets]\n",
    "    DataSet['userTimezone'] = [tweet.user.time_zone for tweet \n",
    "    in tweets]\n",
    "\n",
    "    return DataSet\n",
    "\n",
    "#Pass the tweets list to the above function to create a DataFrame\n",
    "tweet_frame = toDataFrame(results)\n"
   ]
  },
  {
   "cell_type": "code",
   "execution_count": 36,
   "metadata": {
    "collapsed": false
   },
   "outputs": [
    {
     "data": {
      "text/html": [
       "<div>\n",
       "<table border=\"1\" class=\"dataframe\">\n",
       "  <thead>\n",
       "    <tr style=\"text-align: right;\">\n",
       "      <th></th>\n",
       "      <th>tweetID</th>\n",
       "      <th>tweetText</th>\n",
       "      <th>tweetRetweetCt</th>\n",
       "      <th>tweetFavoriteCt</th>\n",
       "      <th>tweetSource</th>\n",
       "      <th>tweetCreated</th>\n",
       "      <th>userID</th>\n",
       "      <th>userScreen</th>\n",
       "      <th>userName</th>\n",
       "      <th>userCreateDt</th>\n",
       "      <th>userDesc</th>\n",
       "      <th>userFollowerCt</th>\n",
       "      <th>userFriendsCt</th>\n",
       "      <th>userLocation</th>\n",
       "      <th>userTimezone</th>\n",
       "    </tr>\n",
       "  </thead>\n",
       "  <tbody>\n",
       "    <tr>\n",
       "      <th>0</th>\n",
       "      <td>751954883784241152</td>\n",
       "      <td>Great job 👎  #test432</td>\n",
       "      <td>0</td>\n",
       "      <td>0</td>\n",
       "      <td>Twitter for iPhone</td>\n",
       "      <td>2016-07-10 01:43:09</td>\n",
       "      <td>4721235721</td>\n",
       "      <td>WaldoJoe_</td>\n",
       "      <td>Waldo Joe</td>\n",
       "      <td>2016-01-07 01:48:07</td>\n",
       "      <td></td>\n",
       "      <td>7</td>\n",
       "      <td>33</td>\n",
       "      <td></td>\n",
       "      <td>None</td>\n",
       "    </tr>\n",
       "  </tbody>\n",
       "</table>\n",
       "</div>"
      ],
      "text/plain": [
       "              tweetID               tweetText  tweetRetweetCt  \\\n",
       "0  751954883784241152  Great job 👎  #test432               0   \n",
       "\n",
       "   tweetFavoriteCt         tweetSource        tweetCreated      userID  \\\n",
       "0                0  Twitter for iPhone 2016-07-10 01:43:09  4721235721   \n",
       "\n",
       "  userScreen   userName        userCreateDt userDesc  userFollowerCt  \\\n",
       "0  WaldoJoe_  Waldo Joe 2016-01-07 01:48:07                        7   \n",
       "\n",
       "   userFriendsCt userLocation userTimezone  \n",
       "0             33                      None  "
      ]
     },
     "execution_count": 36,
     "metadata": {},
     "output_type": "execute_result"
    }
   ],
   "source": [
    "tweet_frame[0:1]"
   ]
  },
  {
   "cell_type": "code",
   "execution_count": 37,
   "metadata": {
    "collapsed": false
   },
   "outputs": [],
   "source": [
    "apple = tweet_frame[0:1].to_csv(\"zebra1.csv\", encoding='utf-8')"
   ]
  },
  {
   "cell_type": "code",
   "execution_count": 38,
   "metadata": {
    "collapsed": false
   },
   "outputs": [
    {
     "name": "stdout",
     "output_type": "stream",
     "text": [
      "<type 'list'>\n",
      "153\n",
      "268\n"
     ]
    }
   ],
   "source": [
    "nltk_stopwords = stopwords.words(\"english\")\n",
    "\n",
    "print type(nltk_stopwords)\n",
    "print len(nltk_stopwords)\n",
    "my_stopwords = nltk_stopwords + [\"br\", \"\\r\", \"\\n\", '\\r\\n\\r\\n', \"said\", \"000\", \"amto\", \"jdemarco\", \"demarco\", \"joe\",\"mailto\", \"ambassador\",\"ambassador hc\",\"mo\", \"com\",\"Thank\", 'revenue management', 'revenue management', 'cc', 'email',\n",
    "                                 \"Ambassador\",\"2015\",'thank chrm','thank','chrm','director revenue','pm',\"pmto\", \"cssgbcorporate\", \n",
    "                                 'director', 'http', 'subject', 'hotel collection', 'hotel','collection', 'managementambassador',\n",
    "                                 'ambassadorhc','sent','thank chrm', 'corporate', 'ambassadorhotelcollection', 'cssgb',\n",
    "                                u'00', u'01', u'02', u'03', u'04', u'06', u'08', u'10', u'104', u'104 broadway', u'107', u'107 9th', u'11', u'1111', u'1111 grand', u'12', u'13', u'14', u'15', u'16', u'17', u'18', u'19', '' u'20', u'2016', u'21', u'22', u'23', u'24', u'25', u'26', '________________________________From:', u'27', u'28', u'29', u'30', u'31', u'316', u'316 719', u'326', u'400', u'400 tulsa', u'405', u'64105', u'64105 jdemarco', u'64106', u'64106 816', u'67202', u'67202 316', u'67202 ambassadorhotelcollection', u'704', u'704 770', u'7134', u'7134 suite', u'719', u'719 7192', u'7192', u'7192 wichita', u'74136', u'74136 704', u'770', u'770 8118', u'8118', u'8118 107', u'8118 jdemarco', u'816', u'816 326', u'918', u'9th', u'9th kansas', u'________________________________', u'__________________________________________________', u'__________________________________________________ join', ]\n",
    "print len(my_stopwords)"
   ]
  },
  {
   "cell_type": "code",
   "execution_count": 39,
   "metadata": {
    "collapsed": false
   },
   "outputs": [
    {
     "name": "stdout",
     "output_type": "stream",
     "text": [
      "(1, 17)\n",
      "['Unnamed: 0', 'tweetID', 'tweetText', 'tweetRetweetCt', 'tweetFavoriteCt', 'tweetSource', 'tweetCreated', 'userID', 'userScreen', 'userName', 'userCreateDt', 'userDesc', 'userFollowerCt', 'userFriendsCt', 'userLocation', 'userTimezone', 'newtext']\n",
      "(1, 3)\n",
      "<type 'list'> 3\n",
      "<type 'list'> 3\n"
     ]
    },
    {
     "name": "stderr",
     "output_type": "stream",
     "text": [
      "C:\\Anaconda2\\lib\\site-packages\\ipykernel\\__main__.py:30: FutureWarning: sort(columns=....) is deprecated, use sort_values(by=.....)\n"
     ]
    }
   ],
   "source": [
    "import pandas as pd\n",
    "import numpy as np\n",
    "from sklearn.feature_extraction.text import CountVectorizer, TfidfVectorizer\n",
    "import nltk\n",
    "from __future__ import division\n",
    "pathname = \"C:\\Users\\joed.AMBHO\\Desktop\\pycourse\\project\\zebra1.csv\"\n",
    "pd.set_option('display.max_colwidth', 1500)\n",
    "sentdf = pathname\n",
    "sentdf = pd.read_csv(sentdf)\n",
    "sentdf['newtext'] = map(lambda x: x.decode('latin-1').encode('ascii','ignore'), sentdf['tweetText'])\n",
    "from nltk.corpus import stopwords\n",
    "from sklearn.feature_extraction.text import CountVectorizer, TfidfVectorizer\n",
    "\n",
    "\n",
    "print sentdf.shape\n",
    "print list(sentdf)\n",
    "sentdf['newtext'] = map(lambda x: x.replace('\\r\\n', ''), sentdf['tweetText'])\n",
    "sentdf['newtext'] = map(lambda x: x.replace('________________________________, ', ''), sentdf['tweetText'])\n",
    "prelim = CountVectorizer(binary=False, lowercase = False, stop_words = 'english') \n",
    "prelim_dm = prelim.fit_transform(sentdf['newtext'])\n",
    "print prelim_dm.shape\n",
    "sentdf['newstext'] = sentdf['newtext'].replace('\\r\\n', '')\n",
    "names = prelim.get_feature_names()\n",
    "print type(names), len(names)\n",
    "\n",
    "count = np.sum(prelim_dm.toarray(), axis = 0).tolist()\n",
    "print type(count), len(count)\n",
    "count_df = pd.DataFrame(count, index = names, columns = ['count'])\n",
    "\n",
    "count_df.sort(['count'], ascending = False).head(20)\n",
    "import re\n",
    "news_dict = { ' rate ':' ADR ', ' property ':' hotel ', ' RevPARs ' : ' RevPAR ', ' Brunch' : ' Breakfast ', ' Oklahoma City ' : ' OKC ', ' Kansas City ': ' KC ', ' tulak ': ' Tulsa ', ' ICTAK ': ' Wichita ', ' mciaa ': ' KC ', ' okcak ': ' OKC '}\n",
    "\n",
    "\n",
    "def multiple_replace(dict, text): \n",
    "\n",
    "  \"\"\" Replace in 'text' all occurences of any key in the given\n",
    "  dictionary by its corresponding value.  Returns the new tring.\"\"\" \n",
    "  text = str(text).lower()\n",
    "\n",
    "  # Create a regular expression  from the dictionary keys\n",
    "  regex = re.compile(\"(%s)\" % \"|\".join(map(re.escape, dict.keys())))\n",
    "\n",
    "  # For each match, look-up corresponding value in dictionary\n",
    "  return regex.sub(lambda mo: dict[mo.string[mo.start():mo.end()]], text)\n",
    "\n",
    "sentdf['newtext'] = map(lambda x: multiple_replace(news_dict, x), sentdf['newtext'])\n"
   ]
  },
  {
   "cell_type": "markdown",
   "metadata": {},
   "source": [
    "# Homework 5: I will be looking at all of my sent and recieved emails"
   ]
  },
  {
   "cell_type": "code",
   "execution_count": 40,
   "metadata": {
    "collapsed": false
   },
   "outputs": [
    {
     "data": {
      "text/plain": [
       "Negative    1\n",
       "Name: afinn, dtype: int64"
      ]
     },
     "execution_count": 40,
     "metadata": {},
     "output_type": "execute_result"
    }
   ],
   "source": [
    "afinn = dict(map(lambda (k,v): (k,int(v)), [ line.split('\\t') for line in open(\"C:\\Users\\joed.AMBHO\\Desktop\\pycourse\\week5\\AFINN-111.txt\") ]))\n",
    "\n",
    "def afinn_sent(inputstring):\n",
    "    \n",
    "    sentcount =0\n",
    "    for word in inputstring.split():  \n",
    "        if word in afinn:\n",
    "            sentcount = sentcount + afinn[word]\n",
    "            \n",
    "    \n",
    "    if (sentcount < 0):\n",
    "        sentiment = 'Negative'\n",
    "    elif (sentcount >0):\n",
    "        sentiment = 'Positive'\n",
    "    else:\n",
    "        sentiment = 'Neutral'\n",
    "    \n",
    "    return sentiment\n",
    "    #return sentcount\n",
    "\n",
    "sentdf['afinn'] = map(lambda x: afinn_sent(x), sentdf['newtext'])\n",
    "sentdf['afinn'].value_counts()"
   ]
  },
  {
   "cell_type": "code",
   "execution_count": 31,
   "metadata": {
    "collapsed": false
   },
   "outputs": [
    {
     "name": "stdout",
     "output_type": "stream",
     "text": [
      "(1, 5)\n",
      "(1, 5)\n",
      "(1, 3)\n",
      "<type 'list'> 5\n"
     ]
    }
   ],
   "source": [
    "from sklearn.feature_extraction.text import CountVectorizer, TfidfVectorizer\n",
    "\n",
    "cv1 = CountVectorizer(lowercase=True, \n",
    "                     stop_words='english',\n",
    "                     binary=False,\n",
    "                     ngram_range = (1,2)) \n",
    "tfidf1 = TfidfVectorizer(lowercase=True, \n",
    "                        stop_words='english', \n",
    "                        ngram_range = (1,2)) \n",
    "\n",
    "choice = TfidfVectorizer(stop_words = 'english') \n",
    "\n",
    "cv_dm = cv1.fit_transform(sentdf['newtext'])\n",
    "tfidf_dm = tfidf1.fit_transform(sentdf['newtext'])\n",
    "choice_dm = choice.fit_transform(sentdf['newtext'])\n",
    "\n",
    "print cv_dm.shape\n",
    "print tfidf_dm.shape\n",
    "print choice_dm.shape\n",
    "names = cv1.get_feature_names()\n",
    "print type(names), len(names)\n",
    "\n",
    "count = np.sum(cv_dm.toarray(), axis = 0).tolist()\n",
    "count_df = pd.DataFrame(count, index = names, columns = ['count'])\n"
   ]
  },
  {
   "cell_type": "code",
   "execution_count": 32,
   "metadata": {
    "collapsed": false
   },
   "outputs": [
    {
     "data": {
      "text/plain": [
       "Positive    1\n",
       "Name: afinn, dtype: int64"
      ]
     },
     "execution_count": 32,
     "metadata": {},
     "output_type": "execute_result"
    }
   ],
   "source": [
    "afinn = dict(map(lambda (k,v): (k,int(v)), [ line.split('\\t') for line in open(\"C:\\Users\\joed.AMBHO\\Desktop\\pycourse\\week5\\AFINN-111.txt\") ]))\n",
    "\n",
    "def afinn_sent(inputstring):\n",
    "    \n",
    "    sentcount =0\n",
    "    for word in inputstring.split():  \n",
    "        if word in afinn:\n",
    "            sentcount = sentcount + afinn[word]\n",
    "            \n",
    "    \n",
    "    if (sentcount < 0):\n",
    "        sentiment = 'Negative'\n",
    "    elif (sentcount >0):\n",
    "        sentiment = 'Positive'\n",
    "    else:\n",
    "        sentiment = 'Neutral'\n",
    "    \n",
    "    return sentiment\n",
    "    #return sentcount\n",
    "\n",
    "sentdf['afinn'] = map(lambda x: afinn_sent(x), sentdf['newtext'])\n",
    "sentdf['afinn'].value_counts()"
   ]
  },
  {
   "cell_type": "code",
   "execution_count": 33,
   "metadata": {
    "collapsed": false
   },
   "outputs": [
    {
     "data": {
      "text/plain": [
       "<matplotlib.axes._subplots.AxesSubplot at 0x9b7dc50>"
      ]
     },
     "execution_count": 33,
     "metadata": {},
     "output_type": "execute_result"
    },
    {
     "data": {
      "image/png": "[encoded data removed]",
      "text/plain": [
       "<matplotlib.figure.Figure at 0xdb4f9e8>"
      ]
     },
     "metadata": {},
     "output_type": "display_data"
    }
   ],
   "source": [
    "%matplotlib inline\n",
    "import matplotlib as mpl\n",
    "import matplotlib.pyplot as plt\n",
    "\n",
    "sentdf['afinn'].value_counts().plot(kind='bar')"
   ]
  },
  {
   "cell_type": "markdown",
   "metadata": {},
   "source": [
    "# Q2: The distribution of my data set is about 3500 positive, 1000 neutral, and about 200 negative. My concern is that the amount of negative emails may be an issue. Bayes is a model that starts by calculating the prior probability of each label, which is determined by checking the frequency of each label in the training set. The decision tree model is basically a simple flowchart that selects labels for input values. This flowchart consists of decision nodes, which check feature values, and leaf nodes, which assign labels. This node contains a condition that checks one of the input value's features, and selects a branch based on that feature's value. Logistic Regression looks for the set of parameters that maximizes the total likelihood of the training corpus... My guess regarding the most accurate model is Bayes just based on the way it calculates. I wonder if it will struggle given the amount of pos/neg/neutral emails that I have. Classification is the task of choosing the correct class label for a given input. I looking at all of my sent/received emails to see if we can classify them as pos/neg/neutral and accurately predict them.\n"
   ]
  },
  {
   "cell_type": "code",
   "execution_count": 150,
   "metadata": {
    "collapsed": false
   },
   "outputs": [
    {
     "name": "stdout",
     "output_type": "stream",
     "text": [
      "<type 'numpy.ndarray'>\n"
     ]
    }
   ],
   "source": [
    "# train test split\n",
    "# data are X, labels are y\n",
    "from sklearn.cross_validation import train_test_split\n",
    "\n",
    "X = cv_dm.toarray() \n",
    "print type(X)\n",
    "\n",
    "\n",
    "y = sentdf['afinn'].values #this is an array of labels"
   ]
  },
  {
   "cell_type": "code",
   "execution_count": 151,
   "metadata": {
    "collapsed": false,
    "scrolled": true
   },
   "outputs": [
    {
     "name": "stdout",
     "output_type": "stream",
     "text": [
      "   64105jdemarco  74136704  8118107  8118107 kansas  \\\n",
      "4              0         1        0               0   \n",
      "\n",
      "   ________________________________from  able  access  additional  adr  also  \\\n",
      "4                                     0     0       0           0    0     0   \n",
      "\n",
      "  ...   wichita  wichita autograph  wichita ks  william  william kinser  work  \\\n",
      "4 ...         0                  0           0        0               0     0   \n",
      "\n",
      "   would  wrote  year  yes  \n",
      "4      0      0     0    0  \n",
      "\n",
      "[1 rows x 257 columns]\n"
     ]
    }
   ],
   "source": [
    "print pd.DataFrame(X,columns = cv1.get_feature_names())[4:5]"
   ]
  },
  {
   "cell_type": "markdown",
   "metadata": {},
   "source": [
    "# T1: Below I set the test size 40 percent."
   ]
  },
  {
   "cell_type": "markdown",
   "metadata": {
    "collapsed": true
   },
   "source": [
    "# T2:"
   ]
  },
  {
   "cell_type": "code",
   "execution_count": 152,
   "metadata": {
    "collapsed": false
   },
   "outputs": [
    {
     "name": "stdout",
     "output_type": "stream",
     "text": [
      "(2775L, 257L)\n",
      "(1850L, 257L)\n",
      "(2775L,)\n",
      "(1850L,)\n"
     ]
    }
   ],
   "source": [
    "X_train, X_test, y_train, y_test = train_test_split(X, y, test_size=0.4, random_state=42)\n",
    "\n",
    "print X_train.shape\n",
    "print X_test.shape\n",
    "print y_train.shape\n",
    "print y_test.shape"
   ]
  },
  {
   "cell_type": "markdown",
   "metadata": {},
   "source": [
    "# T3: I have the performance metrics below each test--> my T3 is on-going."
   ]
  },
  {
   "cell_type": "code",
   "execution_count": 153,
   "metadata": {
    "collapsed": false
   },
   "outputs": [
    {
     "name": "stdout",
     "output_type": "stream",
     "text": [
      "0.86\n",
      "accuracy: 0.86\n",
      "             precision    recall  f1-score   support\n",
      "\n",
      "   Negative       0.08      0.06      0.07        69\n",
      "    Neutral       0.78      0.85      0.81       412\n",
      "   Positive       0.91      0.90      0.91      1369\n",
      "\n",
      "avg / total       0.85      0.86      0.86      1850\n",
      "\n"
     ]
    }
   ],
   "source": [
    "# Decision Tree Classifier\n",
    "from sklearn import metrics\n",
    "from sklearn.tree import DecisionTreeClassifier\n",
    "\n",
    "# fit a CART model to the data\n",
    "model = DecisionTreeClassifier(random_state = 42)\n",
    "model.fit(X_train, y_train)\n",
    "\n",
    "# make predictions\n",
    "clf1_expected = y_test\n",
    "clf1_predicted = model.predict(X_test)\n",
    "\n",
    "\n",
    "print model.score(X_test,y_test)\n",
    "\n",
    "# summarize the fit of the model\n",
    "print(\"accuracy: \" + str(metrics.accuracy_score(clf1_expected, clf1_predicted)))\n",
    "print(metrics.classification_report(clf1_expected, clf1_predicted))"
   ]
  },
  {
   "cell_type": "code",
   "execution_count": 154,
   "metadata": {
    "collapsed": false
   },
   "outputs": [
    {
     "name": "stdout",
     "output_type": "stream",
     "text": [
      "MultinomialNB(alpha=1.0, class_prior=None, fit_prior=True)\n",
      "0.671351351351\n",
      "accuracy: 0.671351351351\n",
      "             precision    recall  f1-score   support\n",
      "\n",
      "   Negative       0.11      0.42      0.18        69\n",
      "    Neutral       0.57      0.54      0.55       412\n",
      "   Positive       0.83      0.72      0.77      1369\n",
      "\n",
      "avg / total       0.74      0.67      0.70      1850\n",
      "\n"
     ]
    }
   ],
   "source": [
    "# Multinomial Naive Bayes\n",
    "from sklearn.naive_bayes import MultinomialNB\n",
    "\n",
    "# fit a Naive Bayes model to the data\n",
    "model = MultinomialNB()\n",
    "print model\n",
    "model.fit(X_train, y_train)\n",
    "\n",
    "# make predictions\n",
    "clf2_expected = y_test\n",
    "clf2_predicted = model.predict(X_test)\n",
    "\n",
    "print model.score(X_test, y_test)\n",
    "\n",
    "# summarize the fit of the model\n",
    "print(\"accuracy: \" + str(metrics.accuracy_score(clf2_expected, clf2_predicted)))\n",
    "print(metrics.classification_report(clf2_expected, clf2_predicted))"
   ]
  },
  {
   "cell_type": "code",
   "execution_count": 155,
   "metadata": {
    "collapsed": false
   },
   "outputs": [
    {
     "name": "stdout",
     "output_type": "stream",
     "text": [
      "LogisticRegression(C=1.0, class_weight=None, dual=False, fit_intercept=True,\n",
      "          intercept_scaling=1, max_iter=100, multi_class='ovr', n_jobs=1,\n",
      "          penalty='l2', random_state=42, solver='liblinear', tol=0.0001,\n",
      "          verbose=0, warm_start=False)\n",
      "0.885945945946\n",
      "accuracy: 0.885945945946\n",
      "             precision    recall  f1-score   support\n",
      "\n",
      "   Negative       0.17      0.04      0.07        69\n",
      "    Neutral       0.81      0.85      0.83       412\n",
      "   Positive       0.92      0.94      0.93      1369\n",
      "\n",
      "avg / total       0.87      0.89      0.87      1850\n",
      "\n"
     ]
    }
   ],
   "source": [
    "# Logistic Regression\n",
    "from sklearn.linear_model import LogisticRegression\n",
    "\n",
    "# fit a logistic regression model to the data\n",
    "model = LogisticRegression(random_state = 42)\n",
    "print model\n",
    "model.fit(X_train, y_train)\n",
    "\n",
    "# make predictions\n",
    "clf3_expected = y_test\n",
    "clf3_predicted = model.predict(X_test)\n",
    "\n",
    "print model.score(X_test, y_test)\n",
    "\n",
    "# summarize the fit of the model\n",
    "print(\"accuracy: \" + str(metrics.accuracy_score(clf3_expected, clf3_predicted)))\n",
    "print(metrics.classification_report(clf3_expected, clf3_predicted))"
   ]
  },
  {
   "cell_type": "code",
   "execution_count": 156,
   "metadata": {
    "collapsed": false
   },
   "outputs": [
    {
     "data": {
      "image/png": "[encoded data removed]",
      "text/plain": [
       "<matplotlib.figure.Figure at 0x119655f8>"
      ]
     },
     "metadata": {},
     "output_type": "display_data"
    },
    {
     "name": "stdout",
     "output_type": "stream",
     "text": [
      "[[   4    8   57]\n",
      " [   2  350   60]\n",
      " [  43   89 1237]]\n"
     ]
    },
    {
     "data": {
      "image/png": "[encoded data removed]",
      "text/plain": [
       "<matplotlib.figure.Figure at 0x152b8908>"
      ]
     },
     "metadata": {},
     "output_type": "display_data"
    },
    {
     "name": "stdout",
     "output_type": "stream",
     "text": [
      "[[ 29   6  34]\n",
      " [ 15 222 175]\n",
      " [217 161 991]]\n"
     ]
    },
    {
     "data": {
      "image/png": "[encoded data removed]",
      "text/plain": [
       "<matplotlib.figure.Figure at 0x1106e9e8>"
      ]
     },
     "metadata": {},
     "output_type": "display_data"
    },
    {
     "name": "stdout",
     "output_type": "stream",
     "text": [
      "[[   3   16   50]\n",
      " [   0  351   61]\n",
      " [  15   69 1285]]\n"
     ]
    }
   ],
   "source": [
    "# display confusion matrix\n",
    "def create_cm(t1, t2):\n",
    "    cm = metrics.confusion_matrix(t1, t2)\n",
    "    plt.matshow(cm)\n",
    "    plt.title('Confusion matrix')\n",
    "    plt.colorbar()\n",
    "    plt.ylabel('True label')\n",
    "    plt.xlabel('Predicted label')\n",
    "    plt.show()\n",
    "    print(cm)\n",
    "\n",
    "create_cm(clf1_expected, clf1_predicted)\n",
    "create_cm(clf2_expected, clf2_predicted)\n",
    "create_cm(clf3_expected, clf3_predicted)"
   ]
  },
  {
   "cell_type": "markdown",
   "metadata": {},
   "source": [
    "# Q3: I was pretty surprised at how accurate all three of the methods were. I wonder if this is because I don't use that many words so it can better predict? It could also be that I do not have enough neutrals and negatives in my distribution. Decision tree and log regression were both VERY close (86% acc vs 87%) and Bayes was 20% lower. Bayes missed the mark by 20% precision on all three classifiers. Seems odd... Bayes did more accurately predict the 'negatives' than the Decision Tree model. Log Regression missed the neutral mark entirely."
   ]
  },
  {
   "cell_type": "markdown",
   "metadata": {},
   "source": [
    "# T4:"
   ]
  },
  {
   "cell_type": "code",
   "execution_count": 157,
   "metadata": {
    "collapsed": false
   },
   "outputs": [
    {
     "data": {
      "text/html": [
       "<div>\n",
       "<table border=\"1\" class=\"dataframe\">\n",
       "  <thead>\n",
       "    <tr style=\"text-align: right;\">\n",
       "      <th></th>\n",
       "      <th>Model Name</th>\n",
       "      <th>Processing/parameters</th>\n",
       "      <th>Accuracy</th>\n",
       "    </tr>\n",
       "  </thead>\n",
       "  <tbody>\n",
       "    <tr>\n",
       "      <th>0</th>\n",
       "      <td>Decision Tree 1</td>\n",
       "      <td>Basic Decision Tree - no weights</td>\n",
       "      <td>86.0</td>\n",
       "    </tr>\n",
       "    <tr>\n",
       "      <th>1</th>\n",
       "      <td>Naive Bayes 1</td>\n",
       "      <td>Basic Naive Bayes - no weights</td>\n",
       "      <td>67.4</td>\n",
       "    </tr>\n",
       "    <tr>\n",
       "      <th>2</th>\n",
       "      <td>Logistic Regression 1</td>\n",
       "      <td>Basic Logistic Regression - no weights</td>\n",
       "      <td>88.7</td>\n",
       "    </tr>\n",
       "  </tbody>\n",
       "</table>\n",
       "</div>"
      ],
      "text/plain": [
       "              Model Name                   Processing/parameters  Accuracy\n",
       "0        Decision Tree 1        Basic Decision Tree - no weights      86.0\n",
       "1          Naive Bayes 1          Basic Naive Bayes - no weights      67.4\n",
       "2  Logistic Regression 1  Basic Logistic Regression - no weights      88.7"
      ]
     },
     "execution_count": 157,
     "metadata": {},
     "output_type": "execute_result"
    }
   ],
   "source": [
    "raw_data = {'Model Name': ['Decision Tree 1', 'Naive Bayes 1', 'Logistic Regression 1'],\n",
    "        'Processing/parameters': ['Basic Decision Tree - no weights', 'Basic Naive Bayes - no weights', \"Basic Logistic Regression - no weights\",],\n",
    "        'Accuracy': [86.0, 67.4, 88.7]}\n",
    "model_performance = pd.DataFrame(raw_data, columns = ['Model Name', 'Processing/parameters', 'Accuracy',])\n",
    "model_performance"
   ]
  },
  {
   "cell_type": "markdown",
   "metadata": {},
   "source": [
    "The model that performed the best was Log Regression. I am not surprised by this. This was the method I predicted that would do the best. I wonder what would happen if I added the weights..."
   ]
  },
  {
   "cell_type": "markdown",
   "metadata": {},
   "source": [
    "# Added weights"
   ]
  },
  {
   "cell_type": "code",
   "execution_count": 158,
   "metadata": {
    "collapsed": false
   },
   "outputs": [],
   "source": [
    "# train test split\n",
    "# data are X, labels are y\n",
    "from sklearn.cross_validation import train_test_split\n",
    "\n",
    "X = tfidf_dm.toarray() \n",
    "\n",
    "\n",
    "y = sentdf['afinn'].values #this is an array of labels\n",
    " "
   ]
  },
  {
   "cell_type": "code",
   "execution_count": 159,
   "metadata": {
    "collapsed": false
   },
   "outputs": [
    {
     "name": "stdout",
     "output_type": "stream",
     "text": [
      "   64105jdemarco  74136704  8118107  8118107 kansas  \\\n",
      "0            0.0       0.0      0.0             0.0   \n",
      "\n",
      "   ________________________________from  able  access  additional  adr  also  \\\n",
      "0                              0.101574   0.0     0.0         0.0  0.0   0.0   \n",
      "\n",
      "  ...   wichita  wichita autograph  wichita ks   william  william kinser  \\\n",
      "0 ...       0.0                0.0         0.0  0.172851        0.095426   \n",
      "\n",
      "   work  would  wrote      year  yes  \n",
      "0   0.0    0.0    0.0  0.105488  0.0  \n",
      "\n",
      "[1 rows x 257 columns]\n"
     ]
    }
   ],
   "source": [
    "print pd.DataFrame(X,columns = tfidf1.get_feature_names())[0:1]"
   ]
  },
  {
   "cell_type": "code",
   "execution_count": 160,
   "metadata": {
    "collapsed": false
   },
   "outputs": [
    {
     "name": "stdout",
     "output_type": "stream",
     "text": [
      "(2775L, 257L)\n",
      "(1850L, 257L)\n",
      "(2775L,)\n",
      "(1850L,)\n"
     ]
    }
   ],
   "source": [
    "X_train, X_test, y_train, y_test = train_test_split(X, y, test_size=0.4, random_state=42) #random_state is set seed\n",
    "\n",
    "print X_train.shape\n",
    "print X_test.shape\n",
    "print y_train.shape\n",
    "print y_test.shape\n"
   ]
  },
  {
   "cell_type": "code",
   "execution_count": 161,
   "metadata": {
    "collapsed": false
   },
   "outputs": [
    {
     "name": "stdout",
     "output_type": "stream",
     "text": [
      "0.86972972973\n",
      "accuracy: 0.86972972973\n",
      "             precision    recall  f1-score   support\n",
      "\n",
      "   Negative       0.12      0.07      0.09        69\n",
      "    Neutral       0.80      0.84      0.82       412\n",
      "   Positive       0.91      0.92      0.92      1369\n",
      "\n",
      "avg / total       0.86      0.87      0.86      1850\n",
      "\n"
     ]
    }
   ],
   "source": [
    "# Decision Tree Classifier\n",
    "from sklearn import metrics\n",
    "from sklearn.tree import DecisionTreeClassifier\n",
    "\n",
    "# fit a CART model to the data\n",
    "model = DecisionTreeClassifier(random_state = 42)\n",
    "model.fit(X_train, y_train)\n",
    "\n",
    "# make predictions\n",
    "clf1_expected = y_test\n",
    "clf1_predicted = model.predict(X_test)\n",
    "\n",
    "\n",
    "print model.score(X_test,y_test)\n",
    "\n",
    "# summarize the fit of the model\n",
    "print(\"accuracy: \" + str(metrics.accuracy_score(clf1_expected, clf1_predicted)))\n",
    "print(metrics.classification_report(clf1_expected, clf1_predicted))"
   ]
  },
  {
   "cell_type": "code",
   "execution_count": 162,
   "metadata": {
    "collapsed": false
   },
   "outputs": [
    {
     "name": "stdout",
     "output_type": "stream",
     "text": [
      "MultinomialNB(alpha=1.0, class_prior=None, fit_prior=True)\n",
      "0.825405405405\n",
      "accuracy: 0.825405405405\n",
      "             precision    recall  f1-score   support\n",
      "\n",
      "   Negative       0.00      0.00      0.00        69\n",
      "    Neutral       0.81      0.50      0.62       412\n",
      "   Positive       0.83      0.97      0.89      1369\n",
      "\n",
      "avg / total       0.79      0.83      0.80      1850\n",
      "\n"
     ]
    }
   ],
   "source": [
    "# Multinomial Naive Bayes\n",
    "from sklearn.naive_bayes import MultinomialNB\n",
    "\n",
    "# fit a Naive Bayes model to the data\n",
    "model = MultinomialNB()\n",
    "print model\n",
    "model.fit(X_train, y_train)\n",
    "\n",
    "# make predictions\n",
    "clf2_expected = y_test\n",
    "clf2_predicted = model.predict(X_test)\n",
    "\n",
    "print model.score(X_test, y_test)\n",
    "\n",
    "# summarize the fit of the model\n",
    "print(\"accuracy: \" + str(metrics.accuracy_score(clf2_expected, clf2_predicted)))\n",
    "print(metrics.classification_report(clf2_expected, clf2_predicted))"
   ]
  },
  {
   "cell_type": "code",
   "execution_count": 163,
   "metadata": {
    "collapsed": false
   },
   "outputs": [
    {
     "name": "stdout",
     "output_type": "stream",
     "text": [
      "LogisticRegression(C=1.0, class_weight=None, dual=False, fit_intercept=True,\n",
      "          intercept_scaling=1, max_iter=100, multi_class='ovr', n_jobs=1,\n",
      "          penalty='l2', random_state=42, solver='liblinear', tol=0.0001,\n",
      "          verbose=0, warm_start=False)\n",
      "0.898378378378\n",
      "accuracy: 0.898378378378\n",
      "             precision    recall  f1-score   support\n",
      "\n",
      "   Negative       0.00      0.00      0.00        69\n",
      "    Neutral       0.88      0.82      0.85       412\n",
      "   Positive       0.90      0.97      0.94      1369\n",
      "\n",
      "avg / total       0.86      0.90      0.88      1850\n",
      "\n"
     ]
    }
   ],
   "source": [
    "# Logistic Regression\n",
    "from sklearn.linear_model import LogisticRegression\n",
    "\n",
    "# fit a logistic regression model to the data\n",
    "model = LogisticRegression(random_state = 42)\n",
    "print model\n",
    "model.fit(X_train, y_train)\n",
    "\n",
    "# make predictions\n",
    "clf3_expected = y_test\n",
    "clf3_predicted = model.predict(X_test)\n",
    "\n",
    "print model.score(X_test, y_test)\n",
    "\n",
    "# summarize the fit of the model\n",
    "print(\"accuracy: \" + str(metrics.accuracy_score(clf3_expected, clf3_predicted)))\n",
    "print(metrics.classification_report(clf3_expected, clf3_predicted))"
   ]
  },
  {
   "cell_type": "code",
   "execution_count": 164,
   "metadata": {
    "collapsed": false
   },
   "outputs": [
    {
     "data": {
      "image/png": "[encoded data removed]",
      "text/plain": [
       "<matplotlib.figure.Figure at 0x14fb2b00>"
      ]
     },
     "metadata": {},
     "output_type": "display_data"
    },
    {
     "name": "stdout",
     "output_type": "stream",
     "text": [
      "[[   5   11   53]\n",
      " [   2  346   64]\n",
      " [  35   76 1258]]\n"
     ]
    },
    {
     "data": {
      "image/png": "[encoded data removed]",
      "text/plain": [
       "<matplotlib.figure.Figure at 0x106fb128>"
      ]
     },
     "metadata": {},
     "output_type": "display_data"
    },
    {
     "name": "stdout",
     "output_type": "stream",
     "text": [
      "[[   0    0   69]\n",
      " [   0  205  207]\n",
      " [   0   47 1322]]\n"
     ]
    },
    {
     "data": {
      "image/png": "[encoded data removed]",
      "text/plain": [
       "<matplotlib.figure.Figure at 0x15286518>"
      ]
     },
     "metadata": {},
     "output_type": "display_data"
    },
    {
     "name": "stdout",
     "output_type": "stream",
     "text": [
      "[[   0    4   65]\n",
      " [   0  337   75]\n",
      " [   0   44 1325]]\n"
     ]
    }
   ],
   "source": [
    "# display confusion matrix\n",
    "def create_cm(t1, t2):\n",
    "    cm = metrics.confusion_matrix(t1, t2)\n",
    "    plt.matshow(cm)\n",
    "    plt.title('Confusion matrix')\n",
    "    plt.colorbar()\n",
    "    plt.ylabel('True label')\n",
    "    plt.xlabel('Predicted label')\n",
    "    plt.show()\n",
    "    print(cm)\n",
    "\n",
    "create_cm(clf1_expected, clf1_predicted)\n",
    "create_cm(clf2_expected, clf2_predicted)\n",
    "create_cm(clf3_expected, clf3_predicted)"
   ]
  },
  {
   "cell_type": "markdown",
   "metadata": {},
   "source": [
    "T5:"
   ]
  },
  {
   "cell_type": "code",
   "execution_count": 165,
   "metadata": {
    "collapsed": false
   },
   "outputs": [],
   "source": [
    "raw_data2 = {'Model Name': ['Decision Tree 2', 'Naive Bayes 2', 'Logistic Regression 2'],\n",
    "        'Processing/parameters': ['Basic Decision Tree - w/weights', 'Basic Naive Bayes - w/weights', \"Basic Logistic Regression - w/weights\",],\n",
    "        'Accuracy': [86.9, 82.5, 89.8]}\n",
    "model_performance2 = pd.DataFrame(raw_data2, columns = ['Model Name', 'Processing/parameters', 'Accuracy',])"
   ]
  },
  {
   "cell_type": "code",
   "execution_count": 166,
   "metadata": {
    "collapsed": false
   },
   "outputs": [
    {
     "data": {
      "text/html": [
       "<div>\n",
       "<table border=\"1\" class=\"dataframe\">\n",
       "  <thead>\n",
       "    <tr style=\"text-align: right;\">\n",
       "      <th></th>\n",
       "      <th>Model Name</th>\n",
       "      <th>Processing/parameters</th>\n",
       "      <th>Accuracy</th>\n",
       "    </tr>\n",
       "  </thead>\n",
       "  <tbody>\n",
       "    <tr>\n",
       "      <th>0</th>\n",
       "      <td>Decision Tree 1</td>\n",
       "      <td>Basic Decision Tree - no weights</td>\n",
       "      <td>86.0</td>\n",
       "    </tr>\n",
       "    <tr>\n",
       "      <th>1</th>\n",
       "      <td>Naive Bayes 1</td>\n",
       "      <td>Basic Naive Bayes - no weights</td>\n",
       "      <td>67.4</td>\n",
       "    </tr>\n",
       "    <tr>\n",
       "      <th>2</th>\n",
       "      <td>Logistic Regression 1</td>\n",
       "      <td>Basic Logistic Regression - no weights</td>\n",
       "      <td>88.7</td>\n",
       "    </tr>\n",
       "    <tr>\n",
       "      <th>3</th>\n",
       "      <td>Decision Tree 2</td>\n",
       "      <td>Basic Decision Tree - w/weights</td>\n",
       "      <td>86.9</td>\n",
       "    </tr>\n",
       "    <tr>\n",
       "      <th>4</th>\n",
       "      <td>Naive Bayes 2</td>\n",
       "      <td>Basic Naive Bayes - w/weights</td>\n",
       "      <td>82.5</td>\n",
       "    </tr>\n",
       "    <tr>\n",
       "      <th>5</th>\n",
       "      <td>Logistic Regression 2</td>\n",
       "      <td>Basic Logistic Regression - w/weights</td>\n",
       "      <td>89.8</td>\n",
       "    </tr>\n",
       "  </tbody>\n",
       "</table>\n",
       "</div>"
      ],
      "text/plain": [
       "              Model Name                   Processing/parameters  Accuracy\n",
       "0        Decision Tree 1        Basic Decision Tree - no weights      86.0\n",
       "1          Naive Bayes 1          Basic Naive Bayes - no weights      67.4\n",
       "2  Logistic Regression 1  Basic Logistic Regression - no weights      88.7\n",
       "3        Decision Tree 2         Basic Decision Tree - w/weights      86.9\n",
       "4          Naive Bayes 2           Basic Naive Bayes - w/weights      82.5\n",
       "5  Logistic Regression 2   Basic Logistic Regression - w/weights      89.8"
      ]
     },
     "execution_count": 166,
     "metadata": {},
     "output_type": "execute_result"
    }
   ],
   "source": [
    "frames = model_performance.append(model_performance2, ignore_index= True)\n",
    "frames"
   ]
  },
  {
   "cell_type": "markdown",
   "metadata": {
    "collapsed": true
   },
   "source": [
    "# T6, Q6-8 are on-going in bold text:  At this point I am going to play with adding more stop words and looking at accuracy. Then I am going back to the original set, and remove the n-gram range. I predict that this will improve accuracy and that Log Regression will be the most accurate but the Log regression and Bayes miss the mark on negative emails."
   ]
  },
  {
   "cell_type": "code",
   "execution_count": 167,
   "metadata": {
    "collapsed": false
   },
   "outputs": [
    {
     "name": "stdout",
     "output_type": "stream",
     "text": [
      "<type 'list'>\n",
      "153\n",
      "443\n"
     ]
    }
   ],
   "source": [
    "nltk_stopwords = stopwords.words(\"english\")\n",
    "r_stopwords = ['i', 'me', 'my', 'myself', 'we', 'our', 'ours', 'ourselves', 'you', 'your', 'yours', 'yourself', \n",
    "               'yourselves', 'he', 'him', 'his', 'himself', 'she', 'her', 'hers', 'herself', 'it', 'its', 'itself', \n",
    "               'they', 'them', 'their', 'theirs', 'themselves', 'what', 'which', 'who', 'whom', 'this', 'that', \n",
    "               'these','revenue' ,'those', 'am', 'is', 'are', 'was', 'were', 'be', 'been', 'being', 'have', 'has', 'had', \n",
    "               'having', 'do', 'does', 'did', 'doing', 'would', 'should', 'could', 'ought', \"i'm\", \"you're\", \"he's\",\n",
    "               \"she's\", \"it's\", \"we're\", \"they're\", \"i've\", \"you've\", \"we've\", \"they've\", \"i'd\", \"you'd\", \"he'd\", \n",
    "               \"she'd\", \"we'd\", \"they'd\", \"i'll\", \"you'll\", \"he'll\", \"she'll\", \"we'll\", \"they'll\", \"isn't\", \"aren't\", \n",
    "               \"wasn't\", \"weren't\", \"hasn't\", \"haven't\", \"hadn't\", \"doesn't\", \"don't\", \"didn't\", \"won't\", \"wouldn't\", \n",
    "               \"shan't\", \"shouldn't\", \"can't\", 'cannot', \"couldn't\", \"mustn't\", \"let's\", \"that's\", \"who's\", \"what's\", \n",
    "               \"here's\", \"there's\", \"when's\", \"where's\", \"why's\", \"how's\", 'a', 'an', 'the', 'and', 'but', 'if', 'or', \n",
    "               'because', 'as', 'until', 'while', 'of', 'at', 'by', 'for', 'with', 'about', 'against', 'between', \n",
    "               'into', 'through', 'during', 'before', 'after', 'above', 'below', 'to', 'from', 'up', 'down', 'in', \n",
    "               'out', 'on', 'off', 'over', 'under', 'again', 'further', 'then', 'once', 'here', 'there', 'when', 'where', \n",
    "               'why', 'how', 'all', 'any', 'both', 'each', 'few', 'more', 'most', 'other', 'some', 'such', 'no', 'nor', \n",
    "               'not', 'only', 'own', 'same', 'so', 'than', 'too', 'very']\n",
    "print type(nltk_stopwords)\n",
    "print len(nltk_stopwords)\n",
    "my_stopwords = nltk_stopwords + r_stopwords + [\"br\", \"\\r\", \"\\n\", '\\r\\n\\r\\n', \"said\", \"000\", \"amto\", \"jdemarco\", \"demarco\", \"joe\",\"mailto\", \"ambassador\",\"ambassador hc\",\"mo\", \"com\",\"Thank\", 'revenue management', 'revenue management', 'cc', 'email',\n",
    "                                 \"Ambassador\",\"2015\",'thank chrm','thank','chrm','director revenue','pm',\"pmto\", \"cssgbcorporate\", \n",
    "                                 'director', 'http', 'subject', 'hotel collection', 'hotel','collection', 'managementambassador',\n",
    "                                 'ambassadorhc','sent','thank chrm', 'corporate', 'ambassadorhotelcollection', 'cssgb',\n",
    "                                u'00', u'01', u'02', u'03', u'04', u'06', u'08', u'10', u'104', u'104 broadway', u'107', u'107 9th', u'11', u'1111', u'1111 grand', u'12', u'13', u'14', u'15', u'16', u'17', u'18', u'19', '' u'20', u'2016', u'21', u'22', u'23', u'24', u'25', u'26', '________________________________From:', u'27', u'28', u'29', u'30', u'31', u'316', u'316 719', u'326', u'400', u'400 tulsa', u'405', u'64105', u'64105 jdemarco', u'64106', u'64106 816', u'67202', u'67202 316', u'67202 ambassadorhotelcollection', u'704', u'704 770', u'7134', u'7134 suite', u'719', u'719 7192', u'7192', u'7192 wichita', u'74136', u'74136 704', u'770', u'770 8118', u'8118', u'8118 107', u'8118 jdemarco', u'816', u'816 326', u'918', u'9th', u'9th kansas', u'________________________________', u'__________________________________________________', u'__________________________________________________ join', ]\n",
    "print len(my_stopwords)"
   ]
  },
  {
   "cell_type": "code",
   "execution_count": 168,
   "metadata": {
    "collapsed": false
   },
   "outputs": [],
   "source": [
    "from sklearn.feature_extraction.text import CountVectorizer, TfidfVectorizer\n",
    "\n",
    "cv1 = CountVectorizer(lowercase=True, \n",
    "                     stop_words=my_stopwords,\n",
    "                     binary=False,\n",
    "                     max_df=0.95, \n",
    "                     min_df=0.05,\n",
    "                     ngram_range = (1,2)) \n",
    "tfidf1 = TfidfVectorizer(lowercase=True, \n",
    "                        stop_words= my_stopwords, \n",
    "                        max_df=0.95, \n",
    "                        min_df=0.05,\n",
    "                        ngram_range = (1,2)) \n",
    "\n",
    "choice = TfidfVectorizer(stop_words = my_stopwords) \n",
    "\n",
    "cv_dm = cv1.fit_transform(sentdf['newtext'])\n",
    "tfidf_dm = tfidf1.fit_transform(sentdf['newtext'])\n",
    "choice_dm = choice.fit_transform(sentdf['newtext'])\n",
    "\n",
    "names = cv1.get_feature_names()\n",
    "\n",
    "count = np.sum(cv_dm.toarray(), axis = 0).tolist()\n",
    "count_df = pd.DataFrame(count, index = names, columns = ['count'])\n"
   ]
  },
  {
   "cell_type": "code",
   "execution_count": 169,
   "metadata": {
    "collapsed": false
   },
   "outputs": [
    {
     "data": {
      "text/plain": [
       "Positive    3475\n",
       "Neutral     1001\n",
       "Negative     149\n",
       "Name: afinn, dtype: int64"
      ]
     },
     "execution_count": 169,
     "metadata": {},
     "output_type": "execute_result"
    }
   ],
   "source": [
    "afinn = dict(map(lambda (k,v): (k,int(v)), [ line.split('\\t') for line in open(\"C:\\Users\\joed.AMBHO\\Desktop\\pycourse\\week5\\AFINN-111.txt\") ]))\n",
    "\n",
    "def afinn_sent(inputstring):\n",
    "    \n",
    "    sentcount =0\n",
    "    for word in inputstring.split():  \n",
    "        if word in afinn:\n",
    "            sentcount = sentcount + afinn[word]\n",
    "            \n",
    "    \n",
    "    if (sentcount < 0):\n",
    "        sentiment = 'Negative'\n",
    "    elif (sentcount >0):\n",
    "        sentiment = 'Positive'\n",
    "    else:\n",
    "        sentiment = 'Neutral'\n",
    "    \n",
    "    return sentiment\n",
    "    #return sentcount\n",
    "\n",
    "sentdf['afinn'] = map(lambda x: afinn_sent(x), sentdf['newtext'])\n",
    "sentdf['afinn'].value_counts()"
   ]
  },
  {
   "cell_type": "code",
   "execution_count": 170,
   "metadata": {
    "collapsed": false
   },
   "outputs": [
    {
     "data": {
      "text/plain": [
       "<matplotlib.axes._subplots.AxesSubplot at 0x11b87c50>"
      ]
     },
     "execution_count": 170,
     "metadata": {},
     "output_type": "execute_result"
    },
    {
     "data": {
      "image/png": "[encoded data removed]",
      "text/plain": [
       "<matplotlib.figure.Figure at 0x11b79390>"
      ]
     },
     "metadata": {},
     "output_type": "display_data"
    }
   ],
   "source": [
    "%matplotlib inline\n",
    "import matplotlib as mpl\n",
    "import matplotlib.pyplot as plt\n",
    "\n",
    "sentdf['afinn'].value_counts().plot(kind='bar')"
   ]
  },
  {
   "cell_type": "code",
   "execution_count": 171,
   "metadata": {
    "collapsed": false
   },
   "outputs": [],
   "source": [
    "# train test split\n",
    "# data are X, labels are y\n",
    "from sklearn.cross_validation import train_test_split\n",
    "\n",
    "X = tfidf_dm.toarray() \n",
    "\n",
    "\n",
    "y = sentdf['afinn'].values #this is an array of labels\n",
    " "
   ]
  },
  {
   "cell_type": "code",
   "execution_count": 172,
   "metadata": {
    "collapsed": false
   },
   "outputs": [
    {
     "name": "stdout",
     "output_type": "stream",
     "text": [
      "(2775L, 249L)\n",
      "(1850L, 249L)\n",
      "(2775L,)\n",
      "(1850L,)\n"
     ]
    }
   ],
   "source": [
    "X_train, X_test, y_train, y_test = train_test_split(X, y, test_size=0.4, random_state=42) #random_state is set seed\n",
    "\n",
    "print X_train.shape\n",
    "print X_test.shape\n",
    "print y_train.shape\n",
    "print y_test.shape\n"
   ]
  },
  {
   "cell_type": "code",
   "execution_count": 173,
   "metadata": {
    "collapsed": false
   },
   "outputs": [
    {
     "name": "stdout",
     "output_type": "stream",
     "text": [
      "0.868648648649\n",
      "accuracy: 0.868648648649\n",
      "             precision    recall  f1-score   support\n",
      "\n",
      "   Negative       0.18      0.13      0.15        69\n",
      "    Neutral       0.80      0.85      0.82       412\n",
      "   Positive       0.92      0.91      0.91      1369\n",
      "\n",
      "avg / total       0.86      0.87      0.87      1850\n",
      "\n"
     ]
    }
   ],
   "source": [
    "# Decision Tree Classifier\n",
    "from sklearn import metrics\n",
    "from sklearn.tree import DecisionTreeClassifier\n",
    "\n",
    "# fit a CART model to the data\n",
    "model = DecisionTreeClassifier(random_state = 42)\n",
    "model.fit(X_train, y_train)\n",
    "\n",
    "# make predictions\n",
    "clf1_expected = y_test\n",
    "clf1_predicted = model.predict(X_test)\n",
    "\n",
    "\n",
    "print model.score(X_test,y_test)\n",
    "\n",
    "# summarize the fit of the model\n",
    "print(\"accuracy: \" + str(metrics.accuracy_score(clf1_expected, clf1_predicted)))\n",
    "print(metrics.classification_report(clf1_expected, clf1_predicted))"
   ]
  },
  {
   "cell_type": "code",
   "execution_count": 174,
   "metadata": {
    "collapsed": false
   },
   "outputs": [
    {
     "name": "stdout",
     "output_type": "stream",
     "text": [
      "MultinomialNB(alpha=1.0, class_prior=None, fit_prior=True)\n",
      "0.824324324324\n",
      "accuracy: 0.824324324324\n",
      "             precision    recall  f1-score   support\n",
      "\n",
      "   Negative       0.00      0.00      0.00        69\n",
      "    Neutral       0.83      0.47      0.60       412\n",
      "   Positive       0.82      0.97      0.89      1369\n",
      "\n",
      "avg / total       0.79      0.82      0.79      1850\n",
      "\n"
     ]
    }
   ],
   "source": [
    "# Multinomial Naive Bayes\n",
    "from sklearn.naive_bayes import MultinomialNB\n",
    "\n",
    "# fit a Naive Bayes model to the data\n",
    "model = MultinomialNB()\n",
    "print model\n",
    "model.fit(X_train, y_train)\n",
    "\n",
    "# make predictions\n",
    "clf2_expected = y_test\n",
    "clf2_predicted = model.predict(X_test)\n",
    "\n",
    "print model.score(X_test, y_test)\n",
    "\n",
    "# summarize the fit of the model\n",
    "print(\"accuracy: \" + str(metrics.accuracy_score(clf2_expected, clf2_predicted)))\n",
    "print(metrics.classification_report(clf2_expected, clf2_predicted))"
   ]
  },
  {
   "cell_type": "code",
   "execution_count": 175,
   "metadata": {
    "collapsed": false
   },
   "outputs": [
    {
     "name": "stdout",
     "output_type": "stream",
     "text": [
      "LogisticRegression(C=1.0, class_weight=None, dual=False, fit_intercept=True,\n",
      "          intercept_scaling=1, max_iter=100, multi_class='ovr', n_jobs=1,\n",
      "          penalty='l2', random_state=42, solver='liblinear', tol=0.0001,\n",
      "          verbose=0, warm_start=False)\n",
      "0.902702702703\n",
      "accuracy: 0.902702702703\n",
      "             precision    recall  f1-score   support\n",
      "\n",
      "   Negative       0.00      0.00      0.00        69\n",
      "    Neutral       0.88      0.83      0.86       412\n",
      "   Positive       0.91      0.97      0.94      1369\n",
      "\n",
      "avg / total       0.87      0.90      0.88      1850\n",
      "\n"
     ]
    }
   ],
   "source": [
    "# Logistic Regression\n",
    "from sklearn.linear_model import LogisticRegression\n",
    "\n",
    "# fit a logistic regression model to the data\n",
    "model = LogisticRegression(random_state = 42)\n",
    "print model\n",
    "model.fit(X_train, y_train)\n",
    "\n",
    "# make predictions\n",
    "clf3_expected = y_test\n",
    "clf3_predicted = model.predict(X_test)\n",
    "\n",
    "print model.score(X_test, y_test)\n",
    "\n",
    "# summarize the fit of the model\n",
    "print(\"accuracy: \" + str(metrics.accuracy_score(clf3_expected, clf3_predicted)))\n",
    "print(metrics.classification_report(clf3_expected, clf3_predicted))"
   ]
  },
  {
   "cell_type": "code",
   "execution_count": 176,
   "metadata": {
    "collapsed": false
   },
   "outputs": [
    {
     "data": {
      "image/png": "[encoded data removed]",
      "text/plain": [
       "<matplotlib.figure.Figure at 0x13430240>"
      ]
     },
     "metadata": {},
     "output_type": "display_data"
    },
    {
     "name": "stdout",
     "output_type": "stream",
     "text": [
      "[[   9    8   52]\n",
      " [   2  349   61]\n",
      " [  40   80 1249]]\n"
     ]
    },
    {
     "data": {
      "image/png": "[encoded data removed]",
      "text/plain": [
       "<matplotlib.figure.Figure at 0x11c2cf60>"
      ]
     },
     "metadata": {},
     "output_type": "display_data"
    },
    {
     "name": "stdout",
     "output_type": "stream",
     "text": [
      "[[   0    0   69]\n",
      " [   0  195  217]\n",
      " [   0   39 1330]]\n"
     ]
    },
    {
     "data": {
      "image/png": "[encoded data removed]",
      "text/plain": [
       "<matplotlib.figure.Figure at 0x108f7b70>"
      ]
     },
     "metadata": {},
     "output_type": "display_data"
    },
    {
     "name": "stdout",
     "output_type": "stream",
     "text": [
      "[[   0    4   65]\n",
      " [   0  344   68]\n",
      " [   0   43 1326]]\n"
     ]
    }
   ],
   "source": [
    "# display confusion matrix\n",
    "def create_cm(t1, t2):\n",
    "    cm = metrics.confusion_matrix(t1, t2)\n",
    "    plt.matshow(cm)\n",
    "    plt.title('Confusion matrix')\n",
    "    plt.colorbar()\n",
    "    plt.ylabel('True label')\n",
    "    plt.xlabel('Predicted label')\n",
    "    plt.show()\n",
    "    print(cm)\n",
    "\n",
    "create_cm(clf1_expected, clf1_predicted)\n",
    "create_cm(clf2_expected, clf2_predicted)\n",
    "create_cm(clf3_expected, clf3_predicted)"
   ]
  },
  {
   "cell_type": "code",
   "execution_count": 177,
   "metadata": {
    "collapsed": false
   },
   "outputs": [
    {
     "data": {
      "text/html": [
       "<div>\n",
       "<table border=\"1\" class=\"dataframe\">\n",
       "  <thead>\n",
       "    <tr style=\"text-align: right;\">\n",
       "      <th></th>\n",
       "      <th>Model Name</th>\n",
       "      <th>Processing/parameters</th>\n",
       "      <th>Accuracy</th>\n",
       "    </tr>\n",
       "  </thead>\n",
       "  <tbody>\n",
       "    <tr>\n",
       "      <th>0</th>\n",
       "      <td>Decision Tree 1</td>\n",
       "      <td>Basic Decision Tree - no weights</td>\n",
       "      <td>86.0</td>\n",
       "    </tr>\n",
       "    <tr>\n",
       "      <th>1</th>\n",
       "      <td>Naive Bayes 1</td>\n",
       "      <td>Basic Naive Bayes - no weights</td>\n",
       "      <td>67.4</td>\n",
       "    </tr>\n",
       "    <tr>\n",
       "      <th>2</th>\n",
       "      <td>Logistic Regression 1</td>\n",
       "      <td>Basic Logistic Regression - no weights</td>\n",
       "      <td>88.7</td>\n",
       "    </tr>\n",
       "    <tr>\n",
       "      <th>3</th>\n",
       "      <td>Decision Tree 2</td>\n",
       "      <td>Basic Decision Tree - w/weights</td>\n",
       "      <td>86.9</td>\n",
       "    </tr>\n",
       "    <tr>\n",
       "      <th>4</th>\n",
       "      <td>Naive Bayes 2</td>\n",
       "      <td>Basic Naive Bayes - w/weights</td>\n",
       "      <td>82.5</td>\n",
       "    </tr>\n",
       "    <tr>\n",
       "      <th>5</th>\n",
       "      <td>Logistic Regression 2</td>\n",
       "      <td>Basic Logistic Regression - w/weights</td>\n",
       "      <td>89.8</td>\n",
       "    </tr>\n",
       "    <tr>\n",
       "      <th>6</th>\n",
       "      <td>Decision Tree 3</td>\n",
       "      <td>Basic Decision Tree - w/weights+R_Stopwords</td>\n",
       "      <td>86.8</td>\n",
       "    </tr>\n",
       "    <tr>\n",
       "      <th>7</th>\n",
       "      <td>Naive Bayes 3</td>\n",
       "      <td>Basic Naive Bayes -  w/weights+R_Stopwords</td>\n",
       "      <td>82.4</td>\n",
       "    </tr>\n",
       "    <tr>\n",
       "      <th>8</th>\n",
       "      <td>Logistic Regression 3</td>\n",
       "      <td>Basic Logistic Regression -  w/weights+R_Stopwords</td>\n",
       "      <td>90.2</td>\n",
       "    </tr>\n",
       "  </tbody>\n",
       "</table>\n",
       "</div>"
      ],
      "text/plain": [
       "              Model Name                               Processing/parameters  \\\n",
       "0        Decision Tree 1                    Basic Decision Tree - no weights   \n",
       "1          Naive Bayes 1                      Basic Naive Bayes - no weights   \n",
       "2  Logistic Regression 1              Basic Logistic Regression - no weights   \n",
       "3        Decision Tree 2                     Basic Decision Tree - w/weights   \n",
       "4          Naive Bayes 2                       Basic Naive Bayes - w/weights   \n",
       "5  Logistic Regression 2               Basic Logistic Regression - w/weights   \n",
       "6        Decision Tree 3         Basic Decision Tree - w/weights+R_Stopwords   \n",
       "7          Naive Bayes 3          Basic Naive Bayes -  w/weights+R_Stopwords   \n",
       "8  Logistic Regression 3  Basic Logistic Regression -  w/weights+R_Stopwords   \n",
       "\n",
       "   Accuracy  \n",
       "0      86.0  \n",
       "1      67.4  \n",
       "2      88.7  \n",
       "3      86.9  \n",
       "4      82.5  \n",
       "5      89.8  \n",
       "6      86.8  \n",
       "7      82.4  \n",
       "8      90.2  "
      ]
     },
     "execution_count": 177,
     "metadata": {},
     "output_type": "execute_result"
    }
   ],
   "source": [
    "raw_data3 = {'Model Name': ['Decision Tree 3', 'Naive Bayes 3', 'Logistic Regression 3'],\n",
    "        'Processing/parameters': ['Basic Decision Tree - w/weights+R_Stopwords', 'Basic Naive Bayes -  w/weights+R_Stopwords', \"Basic Logistic Regression -  w/weights+R_Stopwords\",],\n",
    "        'Accuracy': [86.8, 82.4, 90.2]}\n",
    "model_performance3 = pd.DataFrame(raw_data3, columns = ['Model Name', 'Processing/parameters', 'Accuracy',])\n",
    "frames2 = frames.append(model_performance3, ignore_index=True)\n",
    "frames2"
   ]
  },
  {
   "cell_type": "markdown",
   "metadata": {},
   "source": [
    "# Well.. that did virtually nothing except improve my Log Regression. Probably because the stopwords lists were both so close... In fact, it decreased my accuracy by .01 on a few of them (I rounded). Maybe it created more noise for Decision tree and Bayes? I also did this without the weighting system. Exact same results. Decreased all three models by .01-.03% except for Log Reg. I was correct regarding the Log Regression prediction. Next I will be removing the n-gram setting from my original weighted set (Decision Tree 2, Log Reg 2, and Bayes 2). It will be interesting to see if accuracy is improved. My guess is that there will not be any improvement and that Log Reg is still the most accurate. The size is adjusting by 5-10 each time. This is also why the change is so small. Bayes and Log did fail on the negative emails. "
   ]
  },
  {
   "cell_type": "code",
   "execution_count": 178,
   "metadata": {
    "collapsed": false
   },
   "outputs": [
    {
     "name": "stdout",
     "output_type": "stream",
     "text": [
      "(4625, 201)\n",
      "(4625, 201)\n",
      "(4625, 18572)\n",
      "<type 'list'> 201\n"
     ]
    }
   ],
   "source": [
    "from sklearn.feature_extraction.text import CountVectorizer, TfidfVectorizer\n",
    "\n",
    "cv1 = CountVectorizer(lowercase=True, \n",
    "                     stop_words=my_stopwords,\n",
    "                     binary=False,\n",
    "                     max_df=0.95, \n",
    "                     min_df=0.05) \n",
    "tfidf1 = TfidfVectorizer(lowercase=True, \n",
    "                        stop_words= my_stopwords, \n",
    "                        max_df=0.95, \n",
    "                        min_df=0.05) \n",
    "\n",
    "choice = TfidfVectorizer(stop_words = my_stopwords) \n",
    "\n",
    "cv_dm = cv1.fit_transform(sentdf['newtext'])\n",
    "tfidf_dm = tfidf1.fit_transform(sentdf['newtext'])\n",
    "choice_dm = choice.fit_transform(sentdf['newtext'])\n",
    "\n",
    "print cv_dm.shape\n",
    "print tfidf_dm.shape\n",
    "print choice_dm.shape\n",
    "names = cv1.get_feature_names()\n",
    "print type(names), len(names)\n",
    "\n",
    "count = np.sum(cv_dm.toarray(), axis = 0).tolist()\n",
    "count_df = pd.DataFrame(count, index = names, columns = ['count'])"
   ]
  },
  {
   "cell_type": "code",
   "execution_count": 179,
   "metadata": {
    "collapsed": false
   },
   "outputs": [
    {
     "data": {
      "text/plain": [
       "Positive    3475\n",
       "Neutral     1001\n",
       "Negative     149\n",
       "Name: afinn, dtype: int64"
      ]
     },
     "execution_count": 179,
     "metadata": {},
     "output_type": "execute_result"
    }
   ],
   "source": [
    "afinn = dict(map(lambda (k,v): (k,int(v)), [ line.split('\\t') for line in open(\"C:\\Users\\joed.AMBHO\\Desktop\\pycourse\\week5\\AFINN-111.txt\") ]))\n",
    "\n",
    "def afinn_sent(inputstring):\n",
    "    \n",
    "    sentcount =0\n",
    "    for word in inputstring.split():  \n",
    "        if word in afinn:\n",
    "            sentcount = sentcount + afinn[word]\n",
    "            \n",
    "    \n",
    "    if (sentcount < 0):\n",
    "        sentiment = 'Negative'\n",
    "    elif (sentcount >0):\n",
    "        sentiment = 'Positive'\n",
    "    else:\n",
    "        sentiment = 'Neutral'\n",
    "    \n",
    "    return sentiment\n",
    "    #return sentcount\n",
    "\n",
    "sentdf['afinn'] = map(lambda x: afinn_sent(x), sentdf['newtext'])\n",
    "sentdf['afinn'].value_counts()"
   ]
  },
  {
   "cell_type": "code",
   "execution_count": 180,
   "metadata": {
    "collapsed": false
   },
   "outputs": [
    {
     "name": "stdout",
     "output_type": "stream",
     "text": [
      "(2775L, 201L)\n",
      "(1850L, 201L)\n",
      "(2775L,)\n",
      "(1850L,)\n",
      "Decision Tree\n",
      "0.869189189189\n",
      "accuracy: 0.869189189189\n",
      "             precision    recall  f1-score   support\n",
      "\n",
      "   Negative       0.15      0.09      0.11        69\n",
      "    Neutral       0.79      0.84      0.81       412\n",
      "   Positive       0.92      0.92      0.92      1369\n",
      "\n",
      "avg / total       0.86      0.87      0.86      1850\n",
      "\n",
      "MultinomialNB(alpha=1.0, class_prior=None, fit_prior=True)\n",
      "0.827027027027\n",
      "accuracy: 0.827027027027\n",
      "             precision    recall  f1-score   support\n",
      "\n",
      "   Negative       0.00      0.00      0.00        69\n",
      "    Neutral       0.84      0.49      0.61       412\n",
      "   Positive       0.83      0.97      0.89      1369\n",
      "\n",
      "avg / total       0.80      0.83      0.80      1850\n",
      "\n",
      "LogisticRegression(C=1.0, class_weight=None, dual=False, fit_intercept=True,\n",
      "          intercept_scaling=1, max_iter=100, multi_class='ovr', n_jobs=1,\n",
      "          penalty='l2', random_state=42, solver='liblinear', tol=0.0001,\n",
      "          verbose=0, warm_start=False)\n",
      "0.897297297297\n",
      "accuracy: 0.897297297297\n",
      "             precision    recall  f1-score   support\n",
      "\n",
      "   Negative       0.00      0.00      0.00        69\n",
      "    Neutral       0.86      0.83      0.85       412\n",
      "   Positive       0.91      0.96      0.93      1369\n",
      "\n",
      "avg / total       0.86      0.90      0.88      1850\n",
      "\n"
     ]
    },
    {
     "data": {
      "image/png": "[encoded data removed]",
      "text/plain": [
       "<matplotlib.figure.Figure at 0x13430e48>"
      ]
     },
     "metadata": {},
     "output_type": "display_data"
    },
    {
     "name": "stdout",
     "output_type": "stream",
     "text": [
      "[[   6    9   54]\n",
      " [   4  347   61]\n",
      " [  30   84 1255]]\n"
     ]
    },
    {
     "data": {
      "image/png": "[encoded data removed]",
      "text/plain": [
       "<matplotlib.figure.Figure at 0xcbdc1d0>"
      ]
     },
     "metadata": {},
     "output_type": "display_data"
    },
    {
     "name": "stdout",
     "output_type": "stream",
     "text": [
      "[[   0    0   69]\n",
      " [   0  200  212]\n",
      " [   0   39 1330]]\n"
     ]
    },
    {
     "data": {
      "image/png": "[encoded data removed]",
      "text/plain": [
       "<matplotlib.figure.Figure at 0x15a752b0>"
      ]
     },
     "metadata": {},
     "output_type": "display_data"
    },
    {
     "name": "stdout",
     "output_type": "stream",
     "text": [
      "[[   0    4   65]\n",
      " [   0  341   71]\n",
      " [   0   50 1319]]\n"
     ]
    }
   ],
   "source": [
    "# train test split\n",
    "# data are X, labels are y\n",
    "from sklearn.cross_validation import train_test_split\n",
    "\n",
    "X = tfidf_dm.toarray() \n",
    "\n",
    "\n",
    "y = sentdf['afinn'].values #this is an array of labels\n",
    "X_train, X_test, y_train, y_test = train_test_split(X, y, test_size=0.4, random_state=42) #random_state is set seed\n",
    "\n",
    "print X_train.shape\n",
    "print X_test.shape\n",
    "print y_train.shape\n",
    "print y_test.shape\n",
    "# Decision Tree Classifier\n",
    "from sklearn import metrics\n",
    "from sklearn.tree import DecisionTreeClassifier\n",
    "\n",
    "# fit a CART model to the data\n",
    "model = DecisionTreeClassifier(random_state = 42)\n",
    "model.fit(X_train, y_train)\n",
    "\n",
    "# make predictions\n",
    "clf1_expected = y_test\n",
    "clf1_predicted = model.predict(X_test)\n",
    "\n",
    "print \"Decision Tree\"\n",
    "print model.score(X_test,y_test)\n",
    "\n",
    "# summarize the fit of the model\n",
    "print(\"accuracy: \" + str(metrics.accuracy_score(clf1_expected, clf1_predicted)))\n",
    "print(metrics.classification_report(clf1_expected, clf1_predicted))\n",
    "# Multinomial Naive Bayes\n",
    "from sklearn.naive_bayes import MultinomialNB\n",
    "\n",
    "# fit a Naive Bayes model to the data\n",
    "model = MultinomialNB()\n",
    "print model\n",
    "model.fit(X_train, y_train)\n",
    "\n",
    "# make predictions\n",
    "clf2_expected = y_test\n",
    "clf2_predicted = model.predict(X_test)\n",
    "\n",
    "print model.score(X_test, y_test)\n",
    "\n",
    "# summarize the fit of the model\n",
    "print(\"accuracy: \" + str(metrics.accuracy_score(clf2_expected, clf2_predicted)))\n",
    "print(metrics.classification_report(clf2_expected, clf2_predicted))\n",
    "\n",
    "# Logistic Regression\n",
    "from sklearn.linear_model import LogisticRegression\n",
    "\n",
    "# fit a logistic regression model to the data\n",
    "model = LogisticRegression(random_state = 42)\n",
    "print model\n",
    "model.fit(X_train, y_train)\n",
    "\n",
    "# make predictions\n",
    "clf3_expected = y_test\n",
    "clf3_predicted = model.predict(X_test)\n",
    "\n",
    "print model.score(X_test, y_test)\n",
    "\n",
    "# summarize the fit of the model\n",
    "print(\"accuracy: \" + str(metrics.accuracy_score(clf3_expected, clf3_predicted)))\n",
    "print(metrics.classification_report(clf3_expected, clf3_predicted))\n",
    "\n",
    "# display confusion matrix\n",
    "def create_cm(t1, t2):\n",
    "    cm = metrics.confusion_matrix(t1, t2)\n",
    "    plt.matshow(cm)\n",
    "    plt.title('Confusion matrix')\n",
    "    plt.colorbar()\n",
    "    plt.ylabel('True label')\n",
    "    plt.xlabel('Predicted label')\n",
    "    plt.show()\n",
    "    print(cm)\n",
    "\n",
    "create_cm(clf1_expected, clf1_predicted)\n",
    "create_cm(clf2_expected, clf2_predicted)\n",
    "create_cm(clf3_expected, clf3_predicted)"
   ]
  },
  {
   "cell_type": "code",
   "execution_count": 181,
   "metadata": {
    "collapsed": false
   },
   "outputs": [
    {
     "data": {
      "text/html": [
       "<div>\n",
       "<table border=\"1\" class=\"dataframe\">\n",
       "  <thead>\n",
       "    <tr style=\"text-align: right;\">\n",
       "      <th></th>\n",
       "      <th>Model Name</th>\n",
       "      <th>Processing/parameters</th>\n",
       "      <th>Accuracy</th>\n",
       "    </tr>\n",
       "  </thead>\n",
       "  <tbody>\n",
       "    <tr>\n",
       "      <th>0</th>\n",
       "      <td>Decision Tree 1</td>\n",
       "      <td>Basic Decision Tree - no weights</td>\n",
       "      <td>86.0</td>\n",
       "    </tr>\n",
       "    <tr>\n",
       "      <th>1</th>\n",
       "      <td>Naive Bayes 1</td>\n",
       "      <td>Basic Naive Bayes - no weights</td>\n",
       "      <td>67.4</td>\n",
       "    </tr>\n",
       "    <tr>\n",
       "      <th>2</th>\n",
       "      <td>Logistic Regression 1</td>\n",
       "      <td>Basic Logistic Regression - no weights</td>\n",
       "      <td>88.7</td>\n",
       "    </tr>\n",
       "    <tr>\n",
       "      <th>3</th>\n",
       "      <td>Decision Tree 2</td>\n",
       "      <td>Basic Decision Tree - w/weights</td>\n",
       "      <td>86.9</td>\n",
       "    </tr>\n",
       "    <tr>\n",
       "      <th>4</th>\n",
       "      <td>Naive Bayes 2</td>\n",
       "      <td>Basic Naive Bayes - w/weights</td>\n",
       "      <td>82.5</td>\n",
       "    </tr>\n",
       "    <tr>\n",
       "      <th>5</th>\n",
       "      <td>Logistic Regression 2</td>\n",
       "      <td>Basic Logistic Regression - w/weights</td>\n",
       "      <td>89.8</td>\n",
       "    </tr>\n",
       "    <tr>\n",
       "      <th>6</th>\n",
       "      <td>Decision Tree 3</td>\n",
       "      <td>Basic Decision Tree - w/weights+R_Stopwords</td>\n",
       "      <td>86.8</td>\n",
       "    </tr>\n",
       "    <tr>\n",
       "      <th>7</th>\n",
       "      <td>Naive Bayes 3</td>\n",
       "      <td>Basic Naive Bayes -  w/weights+R_Stopwords</td>\n",
       "      <td>82.4</td>\n",
       "    </tr>\n",
       "    <tr>\n",
       "      <th>8</th>\n",
       "      <td>Logistic Regression 3</td>\n",
       "      <td>Basic Logistic Regression -  w/weights+R_Stopwords</td>\n",
       "      <td>90.2</td>\n",
       "    </tr>\n",
       "    <tr>\n",
       "      <th>9</th>\n",
       "      <td>Decision Tree 4</td>\n",
       "      <td>Basic Decision Tree - w/weights+NO N-Grams</td>\n",
       "      <td>86.9</td>\n",
       "    </tr>\n",
       "    <tr>\n",
       "      <th>10</th>\n",
       "      <td>Naive Bayes 4</td>\n",
       "      <td>Basic Naive Bayes -  w/weights+NO N-Grams</td>\n",
       "      <td>82.7</td>\n",
       "    </tr>\n",
       "    <tr>\n",
       "      <th>11</th>\n",
       "      <td>Logistic Regression 4</td>\n",
       "      <td>Basic Logistic Regression -  w/weights+NO N-Grams</td>\n",
       "      <td>89.7</td>\n",
       "    </tr>\n",
       "  </tbody>\n",
       "</table>\n",
       "</div>"
      ],
      "text/plain": [
       "               Model Name                               Processing/parameters  \\\n",
       "0         Decision Tree 1                    Basic Decision Tree - no weights   \n",
       "1           Naive Bayes 1                      Basic Naive Bayes - no weights   \n",
       "2   Logistic Regression 1              Basic Logistic Regression - no weights   \n",
       "3         Decision Tree 2                     Basic Decision Tree - w/weights   \n",
       "4           Naive Bayes 2                       Basic Naive Bayes - w/weights   \n",
       "5   Logistic Regression 2               Basic Logistic Regression - w/weights   \n",
       "6         Decision Tree 3         Basic Decision Tree - w/weights+R_Stopwords   \n",
       "7           Naive Bayes 3          Basic Naive Bayes -  w/weights+R_Stopwords   \n",
       "8   Logistic Regression 3  Basic Logistic Regression -  w/weights+R_Stopwords   \n",
       "9         Decision Tree 4          Basic Decision Tree - w/weights+NO N-Grams   \n",
       "10          Naive Bayes 4           Basic Naive Bayes -  w/weights+NO N-Grams   \n",
       "11  Logistic Regression 4   Basic Logistic Regression -  w/weights+NO N-Grams   \n",
       "\n",
       "    Accuracy  \n",
       "0       86.0  \n",
       "1       67.4  \n",
       "2       88.7  \n",
       "3       86.9  \n",
       "4       82.5  \n",
       "5       89.8  \n",
       "6       86.8  \n",
       "7       82.4  \n",
       "8       90.2  \n",
       "9       86.9  \n",
       "10      82.7  \n",
       "11      89.7  "
      ]
     },
     "execution_count": 181,
     "metadata": {},
     "output_type": "execute_result"
    }
   ],
   "source": [
    "raw_data4 = {'Model Name': ['Decision Tree 4', 'Naive Bayes 4', 'Logistic Regression 4'],\n",
    "        'Processing/parameters': ['Basic Decision Tree - w/weights+NO N-Grams', 'Basic Naive Bayes -  w/weights+NO N-Grams', \"Basic Logistic Regression -  w/weights+NO N-Grams\",],\n",
    "        'Accuracy': [86.9, 82.7, 89.7]}\n",
    "model_performance4 = pd.DataFrame(raw_data4, columns = ['Model Name', 'Processing/parameters', 'Accuracy',])\n",
    "frames3 = frames2.append(model_performance4, ignore_index=True)\n",
    "frames3"
   ]
  },
  {
   "cell_type": "markdown",
   "metadata": {},
   "source": [
    "# As predicted, Log Reg 4 was still the most accurate. Very little changes between the \"Model_2s\" and the \"model_4s\". Bayes improved by .2 and Logs accuracy decreased by .1  .  Extra Credit: Finally I am going to adjust my min/max_df. I will predict that there will be very little change and Log Reg is still the way to go. If there is any change, since I am decreasing my min and max, I would expect the accuracy of the models to slightly improve because the overall words would decrease. It all three models completely failed on the negative emails."
   ]
  },
  {
   "cell_type": "code",
   "execution_count": 182,
   "metadata": {
    "collapsed": false
   },
   "outputs": [
    {
     "name": "stdout",
     "output_type": "stream",
     "text": [
      "(4625, 1597)\n",
      "(4625, 1597)\n",
      "(4625, 18572)\n",
      "<type 'list'> 1597\n",
      "0.897297297297\n",
      "accuracy: 0.897297297297\n",
      "             precision    recall  f1-score   support\n",
      "\n",
      "   Negative       0.00      0.00      0.00        69\n",
      "    Neutral       0.86      0.83      0.85       412\n",
      "   Positive       0.91      0.96      0.93      1369\n",
      "\n",
      "avg / total       0.86      0.90      0.88      1850\n",
      "\n",
      "(2775L, 1597L)\n",
      "(1850L, 1597L)\n",
      "(2775L,)\n",
      "(1850L,)\n"
     ]
    },
    {
     "name": "stderr",
     "output_type": "stream",
     "text": [
      "C:\\Anaconda2\\lib\\site-packages\\ipykernel\\__main__.py:30: FutureWarning: sort(columns=....) is deprecated, use sort_values(by=.....)\n"
     ]
    },
    {
     "name": "stdout",
     "output_type": "stream",
     "text": [
      "Decision Tree\n",
      "0.870810810811\n",
      "accuracy: 0.870810810811\n",
      "             precision    recall  f1-score   support\n",
      "\n",
      "   Negative       0.12      0.10      0.11        69\n",
      "    Neutral       0.84      0.84      0.84       412\n",
      "   Positive       0.91      0.92      0.92      1369\n",
      "\n",
      "avg / total       0.87      0.87      0.87      1850\n",
      "\n",
      "MultinomialNB(alpha=1.0, class_prior=None, fit_prior=True)\n",
      "0.82972972973\n",
      "accuracy: 0.82972972973\n",
      "             precision    recall  f1-score   support\n",
      "\n",
      "   Negative       0.00      0.00      0.00        69\n",
      "    Neutral       0.84      0.58      0.69       412\n",
      "   Positive       0.84      0.95      0.89      1369\n",
      "\n",
      "avg / total       0.81      0.83      0.81      1850\n",
      "\n",
      "LogisticRegression(C=1.0, class_weight=None, dual=False, fit_intercept=True,\n",
      "          intercept_scaling=1, max_iter=100, multi_class='ovr', n_jobs=1,\n",
      "          penalty='l2', random_state=42, solver='liblinear', tol=0.0001,\n",
      "          verbose=0, warm_start=False)\n",
      "0.900540540541\n",
      "accuracy: 0.900540540541\n",
      "             precision    recall  f1-score   support\n",
      "\n",
      "   Negative       0.00      0.00      0.00        69\n",
      "    Neutral       0.93      0.78      0.85       412\n",
      "   Positive       0.89      0.98      0.94      1369\n",
      "\n",
      "avg / total       0.87      0.90      0.88      1850\n",
      "\n"
     ]
    },
    {
     "data": {
      "image/png": "[encoded data removed]",
      "text/plain": [
       "<matplotlib.figure.Figure at 0x15acdb38>"
      ]
     },
     "metadata": {},
     "output_type": "display_data"
    },
    {
     "name": "stdout",
     "output_type": "stream",
     "text": [
      "[[   7    6   56]\n",
      " [   3  346   63]\n",
      " [  49   62 1258]]\n"
     ]
    },
    {
     "data": {
      "image/png": "[encoded data removed]",
      "text/plain": [
       "<matplotlib.figure.Figure at 0x115b68d0>"
      ]
     },
     "metadata": {},
     "output_type": "display_data"
    },
    {
     "name": "stdout",
     "output_type": "stream",
     "text": [
      "[[   0    0   69]\n",
      " [   0  239  173]\n",
      " [  27   46 1296]]\n"
     ]
    },
    {
     "data": {
      "image/png": "[encoded data removed]",
      "text/plain": [
       "<matplotlib.figure.Figure at 0x108f7dd8>"
      ]
     },
     "metadata": {},
     "output_type": "display_data"
    },
    {
     "name": "stdout",
     "output_type": "stream",
     "text": [
      "[[   0    0   69]\n",
      " [   0  323   89]\n",
      " [   0   26 1343]]\n"
     ]
    }
   ],
   "source": [
    "from sklearn.feature_extraction.text import CountVectorizer, TfidfVectorizer\n",
    "\n",
    "cv1 = CountVectorizer(lowercase=True, \n",
    "                     stop_words=my_stopwords,\n",
    "                     binary=False,\n",
    "                     max_df=0.90, \n",
    "                     min_df=0.01,\n",
    "                     ngram_range = (1,2)) \n",
    "tfidf1 = TfidfVectorizer(lowercase=True, \n",
    "                        stop_words= my_stopwords, \n",
    "                        max_df=0.90, \n",
    "                        min_df=0.01,\n",
    "                        ngram_range = (1,2)) \n",
    "\n",
    "choice = TfidfVectorizer(stop_words = my_stopwords) \n",
    "\n",
    "cv_dm = cv1.fit_transform(sentdf['newtext'])\n",
    "tfidf_dm = tfidf1.fit_transform(sentdf['newtext'])\n",
    "choice_dm = choice.fit_transform(sentdf['newtext'])\n",
    "\n",
    "print cv_dm.shape\n",
    "print tfidf_dm.shape\n",
    "print choice_dm.shape\n",
    "names = cv1.get_feature_names()\n",
    "print type(names), len(names)\n",
    "\n",
    "count = np.sum(cv_dm.toarray(), axis = 0).tolist()\n",
    "count_df = pd.DataFrame(count, index = names, columns = ['count'])\n",
    "\n",
    "count_df.sort(['count'], ascending = False)\n",
    "\n",
    "clf2_expected = y_test\n",
    "clf2_predicted = model.predict(X_test)\n",
    "\n",
    "print model.score(X_test, y_test)\n",
    "\n",
    "# summarize the fit of the model\n",
    "print(\"accuracy: \" + str(metrics.accuracy_score(clf2_expected, clf2_predicted)))\n",
    "print(metrics.classification_report(clf2_expected, clf2_predicted))\n",
    "\n",
    "# Logistic Regression\n",
    "# train test split\n",
    "# data are X, labels are y\n",
    "from sklearn.cross_validation import train_test_split\n",
    "\n",
    "X = tfidf_dm.toarray() \n",
    "\n",
    "\n",
    "y = sentdf['afinn'].values #this is an array of labels\n",
    "X_train, X_test, y_train, y_test = train_test_split(X, y, test_size=0.4, random_state=42) #random_state is set seed\n",
    "\n",
    "print X_train.shape\n",
    "print X_test.shape\n",
    "print y_train.shape\n",
    "print y_test.shape\n",
    "# Decision Tree Classifier\n",
    "from sklearn import metrics\n",
    "from sklearn.tree import DecisionTreeClassifier\n",
    "\n",
    "# fit a CART model to the data\n",
    "model = DecisionTreeClassifier(random_state = 42)\n",
    "model.fit(X_train, y_train)\n",
    "\n",
    "# make predictions\n",
    "clf1_expected = y_test\n",
    "clf1_predicted = model.predict(X_test)\n",
    "\n",
    "print \"Decision Tree\"\n",
    "print model.score(X_test,y_test)\n",
    "\n",
    "# summarize the fit of the model\n",
    "print(\"accuracy: \" + str(metrics.accuracy_score(clf1_expected, clf1_predicted)))\n",
    "print(metrics.classification_report(clf1_expected, clf1_predicted))\n",
    "# Multinomial Naive Bayes\n",
    "from sklearn.naive_bayes import MultinomialNB\n",
    "\n",
    "# fit a Naive Bayes model to the data\n",
    "model = MultinomialNB()\n",
    "print model\n",
    "model.fit(X_train, y_train)\n",
    "\n",
    "# make predictions\n",
    "clf2_expected = y_test\n",
    "clf2_predicted = model.predict(X_test)\n",
    "\n",
    "print model.score(X_test, y_test)\n",
    "\n",
    "# summarize the fit of the model\n",
    "print(\"accuracy: \" + str(metrics.accuracy_score(clf2_expected, clf2_predicted)))\n",
    "print(metrics.classification_report(clf2_expected, clf2_predicted))\n",
    "\n",
    "# Logistic Regression\n",
    "from sklearn.linear_model import LogisticRegression\n",
    "\n",
    "# fit a logistic regression model to the data\n",
    "model = LogisticRegression(random_state = 42)\n",
    "print model\n",
    "model.fit(X_train, y_train)\n",
    "\n",
    "# make predictions\n",
    "clf3_expected = y_test\n",
    "clf3_predicted = model.predict(X_test)\n",
    "\n",
    "print model.score(X_test, y_test)\n",
    "\n",
    "# summarize the fit of the model\n",
    "print(\"accuracy: \" + str(metrics.accuracy_score(clf3_expected, clf3_predicted)))\n",
    "print(metrics.classification_report(clf3_expected, clf3_predicted))\n",
    "\n",
    "# display confusion matrix\n",
    "def create_cm(t1, t2):\n",
    "    cm = metrics.confusion_matrix(t1, t2)\n",
    "    plt.matshow(cm)\n",
    "    plt.title('Confusion matrix')\n",
    "    plt.colorbar()\n",
    "    plt.ylabel('True label')\n",
    "    plt.xlabel('Predicted label')\n",
    "    plt.show()\n",
    "    print(cm)\n",
    "\n",
    "create_cm(clf1_expected, clf1_predicted)\n",
    "create_cm(clf2_expected, clf2_predicted)\n",
    "create_cm(clf3_expected, clf3_predicted)"
   ]
  },
  {
   "cell_type": "code",
   "execution_count": 183,
   "metadata": {
    "collapsed": false
   },
   "outputs": [
    {
     "data": {
      "text/html": [
       "<div>\n",
       "<table border=\"1\" class=\"dataframe\">\n",
       "  <thead>\n",
       "    <tr style=\"text-align: right;\">\n",
       "      <th></th>\n",
       "      <th>Model Name</th>\n",
       "      <th>Processing/parameters</th>\n",
       "      <th>Accuracy</th>\n",
       "    </tr>\n",
       "  </thead>\n",
       "  <tbody>\n",
       "    <tr>\n",
       "      <th>0</th>\n",
       "      <td>Decision Tree 1</td>\n",
       "      <td>Basic Decision Tree - no weights</td>\n",
       "      <td>86.0</td>\n",
       "    </tr>\n",
       "    <tr>\n",
       "      <th>1</th>\n",
       "      <td>Naive Bayes 1</td>\n",
       "      <td>Basic Naive Bayes - no weights</td>\n",
       "      <td>67.4</td>\n",
       "    </tr>\n",
       "    <tr>\n",
       "      <th>2</th>\n",
       "      <td>Logistic Regression 1</td>\n",
       "      <td>Basic Logistic Regression - no weights</td>\n",
       "      <td>88.7</td>\n",
       "    </tr>\n",
       "    <tr>\n",
       "      <th>3</th>\n",
       "      <td>Decision Tree 2</td>\n",
       "      <td>Basic Decision Tree - w/weights</td>\n",
       "      <td>86.9</td>\n",
       "    </tr>\n",
       "    <tr>\n",
       "      <th>4</th>\n",
       "      <td>Naive Bayes 2</td>\n",
       "      <td>Basic Naive Bayes - w/weights</td>\n",
       "      <td>82.5</td>\n",
       "    </tr>\n",
       "    <tr>\n",
       "      <th>5</th>\n",
       "      <td>Logistic Regression 2</td>\n",
       "      <td>Basic Logistic Regression - w/weights</td>\n",
       "      <td>89.8</td>\n",
       "    </tr>\n",
       "    <tr>\n",
       "      <th>6</th>\n",
       "      <td>Decision Tree 3</td>\n",
       "      <td>Basic Decision Tree - w/weights+R_Stopwords</td>\n",
       "      <td>86.8</td>\n",
       "    </tr>\n",
       "    <tr>\n",
       "      <th>7</th>\n",
       "      <td>Naive Bayes 3</td>\n",
       "      <td>Basic Naive Bayes -  w/weights+R_Stopwords</td>\n",
       "      <td>82.4</td>\n",
       "    </tr>\n",
       "    <tr>\n",
       "      <th>8</th>\n",
       "      <td>Logistic Regression 3</td>\n",
       "      <td>Basic Logistic Regression -  w/weights+R_Stopwords</td>\n",
       "      <td>90.2</td>\n",
       "    </tr>\n",
       "    <tr>\n",
       "      <th>9</th>\n",
       "      <td>Decision Tree 4</td>\n",
       "      <td>Basic Decision Tree - w/weights+NO N-Grams</td>\n",
       "      <td>86.9</td>\n",
       "    </tr>\n",
       "    <tr>\n",
       "      <th>10</th>\n",
       "      <td>Naive Bayes 4</td>\n",
       "      <td>Basic Naive Bayes -  w/weights+NO N-Grams</td>\n",
       "      <td>82.7</td>\n",
       "    </tr>\n",
       "    <tr>\n",
       "      <th>11</th>\n",
       "      <td>Logistic Regression 4</td>\n",
       "      <td>Basic Logistic Regression -  w/weights+NO N-Grams</td>\n",
       "      <td>89.7</td>\n",
       "    </tr>\n",
       "    <tr>\n",
       "      <th>12</th>\n",
       "      <td>Decision Tree 5</td>\n",
       "      <td>Basic Decision Tree - w/weights+decreased Min&amp;Max DF</td>\n",
       "      <td>87.0</td>\n",
       "    </tr>\n",
       "    <tr>\n",
       "      <th>13</th>\n",
       "      <td>Naive Bayes 5</td>\n",
       "      <td>Basic Naive Bayes -  w/weights+decreased Min&amp;Max DF</td>\n",
       "      <td>82.9</td>\n",
       "    </tr>\n",
       "    <tr>\n",
       "      <th>14</th>\n",
       "      <td>Logistic Regression 5</td>\n",
       "      <td>Basic Logistic Regression -  w/weights+decreased Min&amp;Max DF</td>\n",
       "      <td>90.0</td>\n",
       "    </tr>\n",
       "  </tbody>\n",
       "</table>\n",
       "</div>"
      ],
      "text/plain": [
       "               Model Name  \\\n",
       "0         Decision Tree 1   \n",
       "1           Naive Bayes 1   \n",
       "2   Logistic Regression 1   \n",
       "3         Decision Tree 2   \n",
       "4           Naive Bayes 2   \n",
       "5   Logistic Regression 2   \n",
       "6         Decision Tree 3   \n",
       "7           Naive Bayes 3   \n",
       "8   Logistic Regression 3   \n",
       "9         Decision Tree 4   \n",
       "10          Naive Bayes 4   \n",
       "11  Logistic Regression 4   \n",
       "12        Decision Tree 5   \n",
       "13          Naive Bayes 5   \n",
       "14  Logistic Regression 5   \n",
       "\n",
       "                                          Processing/parameters  Accuracy  \n",
       "0                              Basic Decision Tree - no weights      86.0  \n",
       "1                                Basic Naive Bayes - no weights      67.4  \n",
       "2                        Basic Logistic Regression - no weights      88.7  \n",
       "3                               Basic Decision Tree - w/weights      86.9  \n",
       "4                                 Basic Naive Bayes - w/weights      82.5  \n",
       "5                         Basic Logistic Regression - w/weights      89.8  \n",
       "6                   Basic Decision Tree - w/weights+R_Stopwords      86.8  \n",
       "7                    Basic Naive Bayes -  w/weights+R_Stopwords      82.4  \n",
       "8            Basic Logistic Regression -  w/weights+R_Stopwords      90.2  \n",
       "9                    Basic Decision Tree - w/weights+NO N-Grams      86.9  \n",
       "10                    Basic Naive Bayes -  w/weights+NO N-Grams      82.7  \n",
       "11            Basic Logistic Regression -  w/weights+NO N-Grams      89.7  \n",
       "12         Basic Decision Tree - w/weights+decreased Min&Max DF      87.0  \n",
       "13          Basic Naive Bayes -  w/weights+decreased Min&Max DF      82.9  \n",
       "14  Basic Logistic Regression -  w/weights+decreased Min&Max DF      90.0  "
      ]
     },
     "execution_count": 183,
     "metadata": {},
     "output_type": "execute_result"
    }
   ],
   "source": [
    "raw_data5 = {'Model Name': ['Decision Tree 5', 'Naive Bayes 5', 'Logistic Regression 5'],\n",
    "        'Processing/parameters': ['Basic Decision Tree - w/weights+decreased Min&Max DF', 'Basic Naive Bayes -  w/weights+decreased Min&Max DF', \"Basic Logistic Regression -  w/weights+decreased Min&Max DF\",],\n",
    "        'Accuracy': [87.0, 82.9, 90.0]}\n",
    "model_performance5 = pd.DataFrame(raw_data5, columns = ['Model Name', 'Processing/parameters', 'Accuracy',])\n",
    "frames4 = frames3.append(model_performance5, ignore_index=True)\n",
    "frames4"
   ]
  },
  {
   "cell_type": "markdown",
   "metadata": {},
   "source": [
    "# Looking at Models_5 vs Models_2, because I adjusted my min and max_df down, the accuracy did increase by .1 to .2. This is probably due to the over size of everything it has to compute being smaller. My last test will be to completely remove the min/max_df settings. I would expect the accuracy to decrease and the Log Reg to be the best fit... It completely failed on the negative predictions."
   ]
  },
  {
   "cell_type": "code",
   "execution_count": 184,
   "metadata": {
    "collapsed": false
   },
   "outputs": [
    {
     "name": "stdout",
     "output_type": "stream",
     "text": [
      "(4625, 136038)\n",
      "(4625, 136038)\n",
      "(4625, 18572)\n",
      "<type 'list'> 136038\n"
     ]
    },
    {
     "name": "stderr",
     "output_type": "stream",
     "text": [
      "C:\\Anaconda2\\lib\\site-packages\\ipykernel\\__main__.py:26: FutureWarning: sort(columns=....) is deprecated, use sort_values(by=.....)\n"
     ]
    },
    {
     "name": "stdout",
     "output_type": "stream",
     "text": [
      "0.900540540541\n",
      "accuracy: 0.900540540541\n",
      "             precision    recall  f1-score   support\n",
      "\n",
      "   Negative       0.00      0.00      0.00        69\n",
      "    Neutral       0.93      0.78      0.85       412\n",
      "   Positive       0.89      0.98      0.94      1369\n",
      "\n",
      "avg / total       0.87      0.90      0.88      1850\n",
      "\n",
      "(2775L, 136038L)\n",
      "(1850L, 136038L)\n",
      "(2775L,)\n",
      "(1850L,)\n",
      "Decision Tree\n",
      "0.881621621622\n",
      "accuracy: 0.881621621622\n",
      "             precision    recall  f1-score   support\n",
      "\n",
      "   Negative       0.24      0.13      0.17        69\n",
      "    Neutral       0.80      0.86      0.83       412\n",
      "   Positive       0.93      0.93      0.93      1369\n",
      "\n",
      "avg / total       0.87      0.88      0.88      1850\n",
      "\n",
      "MultinomialNB(alpha=1.0, class_prior=None, fit_prior=True)\n",
      "0.831891891892\n",
      "accuracy: 0.831891891892\n",
      "             precision    recall  f1-score   support\n",
      "\n",
      "   Negative       0.00      0.00      0.00        69\n",
      "    Neutral       0.97      0.42      0.59       412\n",
      "   Positive       0.82      1.00      0.90      1369\n",
      "\n",
      "avg / total       0.82      0.83      0.80      1850\n",
      "\n",
      "LogisticRegression(C=1.0, class_weight=None, dual=False, fit_intercept=True,\n",
      "          intercept_scaling=1, max_iter=100, multi_class='ovr', n_jobs=1,\n",
      "          penalty='l2', random_state=42, solver='liblinear', tol=0.0001,\n",
      "          verbose=0, warm_start=False)\n",
      "0.861621621622\n",
      "accuracy: 0.861621621622\n",
      "             precision    recall  f1-score   support\n",
      "\n",
      "   Negative       0.00      0.00      0.00        69\n",
      "    Neutral       0.95      0.58      0.72       412\n",
      "   Positive       0.85      0.99      0.91      1369\n",
      "\n",
      "avg / total       0.84      0.86      0.84      1850\n",
      "\n"
     ]
    },
    {
     "data": {
      "image/png": "[encoded data removed]",
      "text/plain": [
       "<matplotlib.figure.Figure at 0x159d3eb8>"
      ]
     },
     "metadata": {},
     "output_type": "display_data"
    },
    {
     "name": "stdout",
     "output_type": "stream",
     "text": [
      "[[   9   15   45]\n",
      " [   0  355   57]\n",
      " [  28   74 1267]]\n"
     ]
    },
    {
     "data": {
      "image/png": "[encoded data removed]",
      "text/plain": [
       "<matplotlib.figure.Figure at 0x159d3860>"
      ]
     },
     "metadata": {},
     "output_type": "display_data"
    },
    {
     "name": "stdout",
     "output_type": "stream",
     "text": [
      "[[   0    0   69]\n",
      " [   0  175  237]\n",
      " [   0    5 1364]]\n"
     ]
    },
    {
     "data": {
      "image/png": "[encoded data removed]",
      "text/plain": [
       "<matplotlib.figure.Figure at 0x10dc0b70>"
      ]
     },
     "metadata": {},
     "output_type": "display_data"
    },
    {
     "name": "stdout",
     "output_type": "stream",
     "text": [
      "[[   0    0   69]\n",
      " [   0  237  175]\n",
      " [   0   12 1357]]\n"
     ]
    }
   ],
   "source": [
    "from sklearn.feature_extraction.text import CountVectorizer, TfidfVectorizer\n",
    "\n",
    "cv1 = CountVectorizer(lowercase=True, \n",
    "                     stop_words=my_stopwords,\n",
    "                     binary=False,\n",
    "                     ngram_range = (1,2)) \n",
    "tfidf1 = TfidfVectorizer(lowercase=True, \n",
    "                        stop_words= my_stopwords,\n",
    "                        ngram_range = (1,2)) \n",
    "\n",
    "choice = TfidfVectorizer(stop_words = my_stopwords) \n",
    "\n",
    "cv_dm = cv1.fit_transform(sentdf['newtext'])\n",
    "tfidf_dm = tfidf1.fit_transform(sentdf['newtext'])\n",
    "choice_dm = choice.fit_transform(sentdf['newtext'])\n",
    "\n",
    "print cv_dm.shape\n",
    "print tfidf_dm.shape\n",
    "print choice_dm.shape\n",
    "names = cv1.get_feature_names()\n",
    "print type(names), len(names)\n",
    "\n",
    "count = np.sum(cv_dm.toarray(), axis = 0).tolist()\n",
    "count_df = pd.DataFrame(count, index = names, columns = ['count'])\n",
    "\n",
    "count_df.sort(['count'], ascending = False)\n",
    "\n",
    "clf2_expected = y_test\n",
    "clf2_predicted = model.predict(X_test)\n",
    "\n",
    "print model.score(X_test, y_test)\n",
    "\n",
    "# summarize the fit of the model\n",
    "print(\"accuracy: \" + str(metrics.accuracy_score(clf2_expected, clf2_predicted)))\n",
    "print(metrics.classification_report(clf2_expected, clf2_predicted))\n",
    "\n",
    "# Logistic Regression\n",
    "# train test split\n",
    "# data are X, labels are y\n",
    "from sklearn.cross_validation import train_test_split\n",
    "\n",
    "X = tfidf_dm.toarray() \n",
    "\n",
    "\n",
    "y = sentdf['afinn'].values #this is an array of labels\n",
    "X_train, X_test, y_train, y_test = train_test_split(X, y, test_size=0.4, random_state=42) #random_state is set seed\n",
    "\n",
    "print X_train.shape\n",
    "print X_test.shape\n",
    "print y_train.shape\n",
    "print y_test.shape\n",
    "# Decision Tree Classifier\n",
    "from sklearn import metrics\n",
    "from sklearn.tree import DecisionTreeClassifier\n",
    "\n",
    "# fit a CART model to the data\n",
    "model = DecisionTreeClassifier(random_state = 42)\n",
    "model.fit(X_train, y_train)\n",
    "\n",
    "# make predictions\n",
    "clf1_expected = y_test\n",
    "clf1_predicted = model.predict(X_test)# make predictions\n",
    "\n",
    "\n",
    "print \"Decision Tree\"\n",
    "print model.score(X_test,y_test)\n",
    "\n",
    "# summarize the fit of the model\n",
    "print(\"accuracy: \" + str(metrics.accuracy_score(clf1_expected, clf1_predicted)))\n",
    "print(metrics.classification_report(clf1_expected, clf1_predicted))\n",
    "# Multinomial Naive Bayes\n",
    "from sklearn.naive_bayes import MultinomialNB\n",
    "\n",
    "# fit a Naive Bayes model to the data\n",
    "model = MultinomialNB()\n",
    "print model\n",
    "model.fit(X_train, y_train)\n",
    "\n",
    "# make predictions\n",
    "clf2_expected = y_test\n",
    "clf2_predicted = model.predict(X_test)\n",
    "\n",
    "print model.score(X_test, y_test)\n",
    "\n",
    "# summarize the fit of the model\n",
    "print(\"accuracy: \" + str(metrics.accuracy_score(clf2_expected, clf2_predicted)))\n",
    "print(metrics.classification_report(clf2_expected, clf2_predicted))\n",
    "\n",
    "# Logistic Regression\n",
    "from sklearn.linear_model import LogisticRegression\n",
    "\n",
    "# fit a logistic regression model to the data\n",
    "model = LogisticRegression(random_state = 42)\n",
    "print model\n",
    "model.fit(X_train, y_train)\n",
    "\n",
    "# make predictions\n",
    "clf3_expected = y_test\n",
    "clf3_predicted = model.predict(X_test)\n",
    "\n",
    "print model.score(X_test, y_test)\n",
    "\n",
    "# summarize the fit of the model\n",
    "print(\"accuracy: \" + str(metrics.accuracy_score(clf3_expected, clf3_predicted)))\n",
    "print(metrics.classification_report(clf3_expected, clf3_predicted))\n",
    "\n",
    "# display confusion matrix\n",
    "def create_cm(t1, t2):\n",
    "    cm = metrics.confusion_matrix(t1, t2)\n",
    "    plt.matshow(cm)\n",
    "    plt.title('Confusion matrix')\n",
    "    plt.colorbar()\n",
    "    plt.ylabel('True label')\n",
    "    plt.xlabel('Predicted label')\n",
    "    plt.show()\n",
    "    print(cm)\n",
    "\n",
    "create_cm(clf1_expected, clf1_predicted)\n",
    "create_cm(clf2_expected, clf2_predicted)\n",
    "create_cm(clf3_expected, clf3_predicted)"
   ]
  },
  {
   "cell_type": "code",
   "execution_count": 185,
   "metadata": {
    "collapsed": false
   },
   "outputs": [
    {
     "data": {
      "text/html": [
       "<div>\n",
       "<table border=\"1\" class=\"dataframe\">\n",
       "  <thead>\n",
       "    <tr style=\"text-align: right;\">\n",
       "      <th></th>\n",
       "      <th>Model Name</th>\n",
       "      <th>Processing/parameters</th>\n",
       "      <th>Accuracy</th>\n",
       "    </tr>\n",
       "  </thead>\n",
       "  <tbody>\n",
       "    <tr>\n",
       "      <th>0</th>\n",
       "      <td>Decision Tree 1</td>\n",
       "      <td>Basic Decision Tree - no weights</td>\n",
       "      <td>86.0</td>\n",
       "    </tr>\n",
       "    <tr>\n",
       "      <th>1</th>\n",
       "      <td>Naive Bayes 1</td>\n",
       "      <td>Basic Naive Bayes - no weights</td>\n",
       "      <td>67.4</td>\n",
       "    </tr>\n",
       "    <tr>\n",
       "      <th>2</th>\n",
       "      <td>Logistic Regression 1</td>\n",
       "      <td>Basic Logistic Regression - no weights</td>\n",
       "      <td>88.7</td>\n",
       "    </tr>\n",
       "    <tr>\n",
       "      <th>3</th>\n",
       "      <td>Decision Tree 2</td>\n",
       "      <td>Basic Decision Tree - w/weights</td>\n",
       "      <td>86.9</td>\n",
       "    </tr>\n",
       "    <tr>\n",
       "      <th>4</th>\n",
       "      <td>Naive Bayes 2</td>\n",
       "      <td>Basic Naive Bayes - w/weights</td>\n",
       "      <td>82.5</td>\n",
       "    </tr>\n",
       "    <tr>\n",
       "      <th>5</th>\n",
       "      <td>Logistic Regression 2</td>\n",
       "      <td>Basic Logistic Regression - w/weights</td>\n",
       "      <td>89.8</td>\n",
       "    </tr>\n",
       "    <tr>\n",
       "      <th>6</th>\n",
       "      <td>Decision Tree 3</td>\n",
       "      <td>Basic Decision Tree - w/weights+R_Stopwords</td>\n",
       "      <td>86.8</td>\n",
       "    </tr>\n",
       "    <tr>\n",
       "      <th>7</th>\n",
       "      <td>Naive Bayes 3</td>\n",
       "      <td>Basic Naive Bayes -  w/weights+R_Stopwords</td>\n",
       "      <td>82.4</td>\n",
       "    </tr>\n",
       "    <tr>\n",
       "      <th>8</th>\n",
       "      <td>Logistic Regression 3</td>\n",
       "      <td>Basic Logistic Regression -  w/weights+R_Stopwords</td>\n",
       "      <td>90.2</td>\n",
       "    </tr>\n",
       "    <tr>\n",
       "      <th>9</th>\n",
       "      <td>Decision Tree 4</td>\n",
       "      <td>Basic Decision Tree - w/weights+NO N-Grams</td>\n",
       "      <td>86.9</td>\n",
       "    </tr>\n",
       "    <tr>\n",
       "      <th>10</th>\n",
       "      <td>Naive Bayes 4</td>\n",
       "      <td>Basic Naive Bayes -  w/weights+NO N-Grams</td>\n",
       "      <td>82.7</td>\n",
       "    </tr>\n",
       "    <tr>\n",
       "      <th>11</th>\n",
       "      <td>Logistic Regression 4</td>\n",
       "      <td>Basic Logistic Regression -  w/weights+NO N-Grams</td>\n",
       "      <td>89.7</td>\n",
       "    </tr>\n",
       "    <tr>\n",
       "      <th>12</th>\n",
       "      <td>Decision Tree 5</td>\n",
       "      <td>Basic Decision Tree - w/weights+decreased Min&amp;Max DF</td>\n",
       "      <td>87.0</td>\n",
       "    </tr>\n",
       "    <tr>\n",
       "      <th>13</th>\n",
       "      <td>Naive Bayes 5</td>\n",
       "      <td>Basic Naive Bayes -  w/weights+decreased Min&amp;Max DF</td>\n",
       "      <td>82.9</td>\n",
       "    </tr>\n",
       "    <tr>\n",
       "      <th>14</th>\n",
       "      <td>Logistic Regression 5</td>\n",
       "      <td>Basic Logistic Regression -  w/weights+decreased Min&amp;Max DF</td>\n",
       "      <td>90.0</td>\n",
       "    </tr>\n",
       "    <tr>\n",
       "      <th>15</th>\n",
       "      <td>Decision Tree 6</td>\n",
       "      <td>Basic Decision Tree - w/weights+ NO Min&amp;Max DF</td>\n",
       "      <td>88.1</td>\n",
       "    </tr>\n",
       "    <tr>\n",
       "      <th>16</th>\n",
       "      <td>Naive Bayes 6</td>\n",
       "      <td>Basic Naive Bayes -  w/weights+ No Min&amp;Max DF</td>\n",
       "      <td>83.1</td>\n",
       "    </tr>\n",
       "    <tr>\n",
       "      <th>17</th>\n",
       "      <td>Logistic Regression 6</td>\n",
       "      <td>Basic Logistic Regression -  w/weights+No Min&amp;Max DF</td>\n",
       "      <td>86.1</td>\n",
       "    </tr>\n",
       "  </tbody>\n",
       "</table>\n",
       "</div>"
      ],
      "text/plain": [
       "               Model Name  \\\n",
       "0         Decision Tree 1   \n",
       "1           Naive Bayes 1   \n",
       "2   Logistic Regression 1   \n",
       "3         Decision Tree 2   \n",
       "4           Naive Bayes 2   \n",
       "5   Logistic Regression 2   \n",
       "6         Decision Tree 3   \n",
       "7           Naive Bayes 3   \n",
       "8   Logistic Regression 3   \n",
       "9         Decision Tree 4   \n",
       "10          Naive Bayes 4   \n",
       "11  Logistic Regression 4   \n",
       "12        Decision Tree 5   \n",
       "13          Naive Bayes 5   \n",
       "14  Logistic Regression 5   \n",
       "15        Decision Tree 6   \n",
       "16          Naive Bayes 6   \n",
       "17  Logistic Regression 6   \n",
       "\n",
       "                                          Processing/parameters  Accuracy  \n",
       "0                              Basic Decision Tree - no weights      86.0  \n",
       "1                                Basic Naive Bayes - no weights      67.4  \n",
       "2                        Basic Logistic Regression - no weights      88.7  \n",
       "3                               Basic Decision Tree - w/weights      86.9  \n",
       "4                                 Basic Naive Bayes - w/weights      82.5  \n",
       "5                         Basic Logistic Regression - w/weights      89.8  \n",
       "6                   Basic Decision Tree - w/weights+R_Stopwords      86.8  \n",
       "7                    Basic Naive Bayes -  w/weights+R_Stopwords      82.4  \n",
       "8            Basic Logistic Regression -  w/weights+R_Stopwords      90.2  \n",
       "9                    Basic Decision Tree - w/weights+NO N-Grams      86.9  \n",
       "10                    Basic Naive Bayes -  w/weights+NO N-Grams      82.7  \n",
       "11            Basic Logistic Regression -  w/weights+NO N-Grams      89.7  \n",
       "12         Basic Decision Tree - w/weights+decreased Min&Max DF      87.0  \n",
       "13          Basic Naive Bayes -  w/weights+decreased Min&Max DF      82.9  \n",
       "14  Basic Logistic Regression -  w/weights+decreased Min&Max DF      90.0  \n",
       "15               Basic Decision Tree - w/weights+ NO Min&Max DF      88.1  \n",
       "16                Basic Naive Bayes -  w/weights+ No Min&Max DF      83.1  \n",
       "17         Basic Logistic Regression -  w/weights+No Min&Max DF      86.1  "
      ]
     },
     "execution_count": 185,
     "metadata": {},
     "output_type": "execute_result"
    }
   ],
   "source": [
    "raw_data6 = {'Model Name': ['Decision Tree 6', 'Naive Bayes 6', 'Logistic Regression 6'],\n",
    "        'Processing/parameters': ['Basic Decision Tree - w/weights+ NO Min&Max DF', 'Basic Naive Bayes -  w/weights+ No Min&Max DF', \"Basic Logistic Regression -  w/weights+No Min&Max DF\",],\n",
    "        'Accuracy': [88.1, 83.1, 86.1]}\n",
    "model_performance6 = pd.DataFrame(raw_data6, columns = ['Model Name', 'Processing/parameters', 'Accuracy',])\n",
    "frames5 = frames4.append(model_performance6, ignore_index=True)\n",
    "frames5"
   ]
  },
  {
   "cell_type": "markdown",
   "metadata": {},
   "source": [
    "# Now looking at Models_2 vs Models_6, I am confused... The Bayes increased by .5% and the Decision tree is now the most accurate. Decision tree increased to 88.1%. Log Reg DECREASED by almost 4%. I wonder if it is because there are more words to predict the positive and neutral emails. It did totally fail on negative emails. I need more negative emails. Overall, I believe the best method to use is still Log Regression with weights and min/max's and n-grams if we are looking for overall accuracy. However, if we are looking for a model that can pick up on all 3 classifiers, the Decision Tree_2 with weights, no Min/max_df is the best. I am leaning with the Decision Tree_2. One also has to wonder when overfitting comes into play."
   ]
  }
 ],
 "metadata": {
  "anaconda-cloud": {},
  "kernelspec": {
   "display_name": "Python [Root]",
   "language": "python",
   "name": "Python [Root]"
  },
  "language_info": {
   "codemirror_mode": {
    "name": "ipython",
    "version": 2
   },
   "file_extension": ".py",
   "mimetype": "text/x-python",
   "name": "python",
   "nbconvert_exporter": "python",
   "pygments_lexer": "ipython2",
   "version": "2.7.12"
  }
 },
 "nbformat": 4,
 "nbformat_minor": 0
}
