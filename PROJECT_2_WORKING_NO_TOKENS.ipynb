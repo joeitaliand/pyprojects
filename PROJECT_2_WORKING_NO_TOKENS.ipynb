{
 "cells": [
  {
   "cell_type": "code",
   "execution_count": 31,
   "metadata": {
    "collapsed": true
   },
   "outputs": [],
   "source": [
    "import pandas as pd\n",
    "import numpy as np"
   ]
  },
  {
   "cell_type": "code",
   "execution_count": 39,
   "metadata": {
    "collapsed": true
   },
   "outputs": [],
   "source": [
    "import tweepy\n",
    "from tweepy import OAuthHandler\n",
    " \n",
    "consumer_key = 'insert_token'\n",
    "consumer_secret = 'insert_token'\n",
    "access_token = 'insert_token'\n",
    "access_secret = 'insert_token'\n",
    "\n",
    "auth = OAuthHandler(consumer_key, consumer_secret)\n",
    "auth.set_access_token(access_token, access_secret)\n",
    " \n",
    "\n",
    "\n",
    "api = tweepy.API(auth)"
   ]
  },
  {
   "cell_type": "code",
   "execution_count": 41,
   "metadata": {
    "collapsed": false
   },
   "outputs": [
    {
     "name": "stdout",
     "output_type": "stream",
     "text": [
      "<type 'list'>\n",
      "3\n"
     ]
    }
   ],
   "source": [
    "results = []\n",
    "for tweet in tweepy.Cursor(api.search, q='%23test5321').items(500):\n",
    "    results.append(tweet)\n",
    "\n",
    "print type(results)\n",
    "print len(results)"
   ]
  },
  {
   "cell_type": "code",
   "execution_count": 42,
   "metadata": {
    "collapsed": false
   },
   "outputs": [],
   "source": [
    "def toDataFrame(tweets):\n",
    "\n",
    "    DataSet = pd.DataFrame()\n",
    "\n",
    "    DataSet['tweetID'] = [tweet.id for tweet in tweets]\n",
    "    DataSet['tweetText'] = [tweet.text for tweet in tweets]\n",
    "    DataSet['tweetRetweetCt'] = [tweet.retweet_count for tweet \n",
    "    in tweets]\n",
    "    DataSet['tweetFavoriteCt'] = [tweet.favorite_count for tweet \n",
    "    in tweets]\n",
    "    DataSet['tweetSource'] = [tweet.source for tweet in tweets]\n",
    "    DataSet['tweetCreated'] = [tweet.created_at for tweet in tweets]\n",
    "\n",
    "\n",
    "    DataSet['userID'] = [tweet.user.id for tweet in tweets]\n",
    "    DataSet['userScreen'] = [tweet.user.screen_name for tweet \n",
    "    in tweets]\n",
    "    DataSet['userName'] = [tweet.user.name for tweet in tweets]\n",
    "    DataSet['userCreateDt'] = [tweet.user.created_at for tweet \n",
    "    in tweets]\n",
    "    DataSet['userDesc'] = [tweet.user.description for tweet in tweets]\n",
    "    DataSet['userFollowerCt'] = [tweet.user.followers_count for tweet \n",
    "    in tweets]\n",
    "    DataSet['userFriendsCt'] = [tweet.user.friends_count for tweet \n",
    "    in tweets]\n",
    "    DataSet['userLocation'] = [tweet.user.location for tweet in tweets]\n",
    "    DataSet['userTimezone'] = [tweet.user.time_zone for tweet \n",
    "    in tweets]\n",
    "\n",
    "    return DataSet\n",
    "\n",
    "#Pass the tweets list to the above function to create a DataFrame\n",
    "tweet_frame = toDataFrame(results)\n"
   ]
  },
  {
   "cell_type": "code",
   "execution_count": 44,
   "metadata": {
    "collapsed": false
   },
   "outputs": [
    {
     "data": {
      "text/html": [
       "<div>\n",
       "<table border=\"1\" class=\"dataframe\">\n",
       "  <thead>\n",
       "    <tr style=\"text-align: right;\">\n",
       "      <th></th>\n",
       "      <th>tweetID</th>\n",
       "      <th>tweetText</th>\n",
       "      <th>tweetRetweetCt</th>\n",
       "      <th>tweetFavoriteCt</th>\n",
       "      <th>tweetSource</th>\n",
       "      <th>tweetCreated</th>\n",
       "      <th>userID</th>\n",
       "      <th>userScreen</th>\n",
       "      <th>userName</th>\n",
       "      <th>userCreateDt</th>\n",
       "      <th>userDesc</th>\n",
       "      <th>userFollowerCt</th>\n",
       "      <th>userFriendsCt</th>\n",
       "      <th>userLocation</th>\n",
       "      <th>userTimezone</th>\n",
       "    </tr>\n",
       "  </thead>\n",
       "  <tbody>\n",
       "    <tr>\n",
       "      <th>0</th>\n",
       "      <td>752701196930920448</td>\n",
       "      <td>Bad terrible 😀 #test5321</td>\n",
       "      <td>0</td>\n",
       "      <td>0</td>\n",
       "      <td>Twitter for iPhone</td>\n",
       "      <td>2016-07-12 03:08:44</td>\n",
       "      <td>4721235721</td>\n",
       "      <td>WaldoJoe_</td>\n",
       "      <td>Waldo Joe</td>\n",
       "      <td>2016-01-07 01:48:07</td>\n",
       "      <td></td>\n",
       "      <td>6</td>\n",
       "      <td>33</td>\n",
       "      <td></td>\n",
       "      <td>None</td>\n",
       "    </tr>\n",
       "    <tr>\n",
       "      <th>1</th>\n",
       "      <td>752698768756133888</td>\n",
       "      <td>Great job 👎 #test5321</td>\n",
       "      <td>0</td>\n",
       "      <td>0</td>\n",
       "      <td>Twitter for iPhone</td>\n",
       "      <td>2016-07-12 02:59:05</td>\n",
       "      <td>4721235721</td>\n",
       "      <td>WaldoJoe_</td>\n",
       "      <td>Waldo Joe</td>\n",
       "      <td>2016-01-07 01:48:07</td>\n",
       "      <td></td>\n",
       "      <td>6</td>\n",
       "      <td>33</td>\n",
       "      <td></td>\n",
       "      <td>None</td>\n",
       "    </tr>\n",
       "    <tr>\n",
       "      <th>2</th>\n",
       "      <td>752698548399988736</td>\n",
       "      <td>Great job #test5321</td>\n",
       "      <td>0</td>\n",
       "      <td>0</td>\n",
       "      <td>Twitter for iPhone</td>\n",
       "      <td>2016-07-12 02:58:13</td>\n",
       "      <td>4721235721</td>\n",
       "      <td>WaldoJoe_</td>\n",
       "      <td>Waldo Joe</td>\n",
       "      <td>2016-01-07 01:48:07</td>\n",
       "      <td></td>\n",
       "      <td>6</td>\n",
       "      <td>33</td>\n",
       "      <td></td>\n",
       "      <td>None</td>\n",
       "    </tr>\n",
       "  </tbody>\n",
       "</table>\n",
       "</div>"
      ],
      "text/plain": [
       "              tweetID                  tweetText  tweetRetweetCt  \\\n",
       "0  752701196930920448  Bad terrible 😀 #test5321               0   \n",
       "1  752698768756133888     Great job 👎 #test5321               0   \n",
       "2  752698548399988736        Great job #test5321               0   \n",
       "\n",
       "   tweetFavoriteCt         tweetSource        tweetCreated      userID  \\\n",
       "0                0  Twitter for iPhone 2016-07-12 03:08:44  4721235721   \n",
       "1                0  Twitter for iPhone 2016-07-12 02:59:05  4721235721   \n",
       "2                0  Twitter for iPhone 2016-07-12 02:58:13  4721235721   \n",
       "\n",
       "  userScreen   userName        userCreateDt userDesc  userFollowerCt  \\\n",
       "0  WaldoJoe_  Waldo Joe 2016-01-07 01:48:07                        6   \n",
       "1  WaldoJoe_  Waldo Joe 2016-01-07 01:48:07                        6   \n",
       "2  WaldoJoe_  Waldo Joe 2016-01-07 01:48:07                        6   \n",
       "\n",
       "   userFriendsCt userLocation userTimezone  \n",
       "0             33                      None  \n",
       "1             33                      None  \n",
       "2             33                      None  "
      ]
     },
     "execution_count": 44,
     "metadata": {},
     "output_type": "execute_result"
    }
   ],
   "source": [
    "tweet_frame[0:3]"
   ]
  },
  {
   "cell_type": "code",
   "execution_count": 45,
   "metadata": {
    "collapsed": false
   },
   "outputs": [],
   "source": [
    "apple = tweet_frame[0:3].to_csv(\"zebra1.csv\", encoding='utf-8')"
   ]
  },
  {
   "cell_type": "code",
   "execution_count": 46,
   "metadata": {
    "collapsed": false
   },
   "outputs": [
    {
     "name": "stdout",
     "output_type": "stream",
     "text": [
      "(3, 17)\n",
      "['Unnamed: 0', 'tweetID', 'tweetText', 'tweetRetweetCt', 'tweetFavoriteCt', 'tweetSource', 'tweetCreated', 'userID', 'userScreen', 'userName', 'userCreateDt', 'userDesc', 'userFollowerCt', 'userFriendsCt', 'userLocation', 'userTimezone', 'newtext']\n",
      "(3, 5)\n",
      "<type 'list'> 5\n",
      "<type 'list'> 5\n"
     ]
    },
    {
     "name": "stderr",
     "output_type": "stream",
     "text": [
      "C:\\Anaconda2\\lib\\site-packages\\ipykernel\\__main__.py:30: FutureWarning: sort(columns=....) is deprecated, use sort_values(by=.....)\n"
     ]
    }
   ],
   "source": [
    "import pandas as pd\n",
    "import numpy as np\n",
    "from sklearn.feature_extraction.text import CountVectorizer, TfidfVectorizer\n",
    "import nltk\n",
    "from __future__ import division\n",
    "pathname = \"C:\\Users\\joed.AMBHO\\Desktop\\pycourse\\project\\zebra1.csv\"\n",
    "pd.set_option('display.max_colwidth', 1500)\n",
    "sentdf = pathname\n",
    "sentdf = pd.read_csv(sentdf)\n",
    "sentdf['newtext'] = map(lambda x: x.decode('latin-1').encode('ascii','ignore'), sentdf['tweetText'])\n",
    "from nltk.corpus import stopwords\n",
    "from sklearn.feature_extraction.text import CountVectorizer, TfidfVectorizer\n",
    "\n",
    "\n",
    "print sentdf.shape\n",
    "print list(sentdf)\n",
    "sentdf['newtext'] = map(lambda x: x.replace('\\r\\n', ''), sentdf['tweetText'])\n",
    "sentdf['newtext'] = map(lambda x: x.replace('________________________________, ', ''), sentdf['tweetText'])\n",
    "prelim = CountVectorizer(binary=False, lowercase = False, stop_words = 'english') \n",
    "prelim_dm = prelim.fit_transform(sentdf['newtext'])\n",
    "print prelim_dm.shape\n",
    "sentdf['newstext'] = sentdf['newtext'].replace('\\r\\n', '')\n",
    "names = prelim.get_feature_names()\n",
    "print type(names), len(names)\n",
    "\n",
    "count = np.sum(prelim_dm.toarray(), axis = 0).tolist()\n",
    "print type(count), len(count)\n",
    "count_df = pd.DataFrame(count, index = names, columns = ['count'])\n",
    "\n",
    "count_df.sort(['count'], ascending = False).head(20)\n",
    "import re\n",
    "\n",
    "\n",
    "def multiple_replace(dict, text): \n",
    "\n",
    "  \"\"\" Replace in 'text' all occurences of any key in the given\n",
    "  dictionary by its corresponding value.  Returns the new tring.\"\"\" \n",
    "  text = str(text).lower()\n",
    "\n",
    "  # Create a regular expression  from the dictionary keys\n",
    "  regex = re.compile(\"(%s)\" % \"|\".join(map(re.escape, dict.keys())))\n",
    "\n",
    "  # For each match, look-up corresponding value in dictionary\n",
    "  return regex.sub(lambda mo: dict[mo.string[mo.start():mo.end()]], text)\n",
    "\n",
   ]
  },
  {
   "cell_type": "code",
   "execution_count": 47,
   "metadata": {
    "collapsed": false
   },
   "outputs": [
    {
     "data": {
      "text/plain": [
       "Positive    2\n",
       "Negative    1\n",
       "Name: afinn, dtype: int64"
      ]
     },
     "execution_count": 47,
     "metadata": {},
     "output_type": "execute_result"
    }
   ],
   "source": [
    "afinn = dict(map(lambda (k,v): (k,int(v)), [ line.split('\\t') for line in open(\"C:\\Users\\joed.AMBHO\\Desktop\\pycourse\\project\\AFINN-111_emoji.txt\") ]))\n",
    "\n",
    "def afinn_sent(inputstring):\n",
    "    \n",
    "    sentcount =0\n",
    "    for word in inputstring.split():  \n",
    "        if word in afinn:\n",
    "            sentcount = sentcount + afinn[word]\n",
    "            \n",
    "    \n",
    "    if (sentcount < 0):\n",
    "        sentiment = 'Negative'\n",
    "    elif (sentcount >0):\n",
    "        sentiment = 'Positive'\n",
    "    else:\n",
    "        sentiment = 'Neutral'\n",
    "    \n",
    "    return sentiment\n",
    "    #return sentcount\n",
    "\n",
    "sentdf['afinn'] = map(lambda x: afinn_sent(x), sentdf['newtext'])\n",
    "sentdf['afinn'].value_counts()"
   ]
  },
  {
   "cell_type": "code",
   "execution_count": 48,
   "metadata": {
    "collapsed": false
   },
   "outputs": [
    {
     "data": {
      "text/plain": [
       "Positive    2\n",
       "Negative    1\n",
       "Name: afinn, dtype: int64"
      ]
     },
     "execution_count": 48,
     "metadata": {},
     "output_type": "execute_result"
    }
   ],
   "source": [
    "afinn = dict(map(lambda (k,v): (k,int(v)), [ line.split('\\t') for line in open(\"C:\\Users\\joed.AMBHO\\Desktop\\pycourse\\project\\AFINN-111_emoji.txt\") ]))\n",
    "\n",
    "def afinn_sent(inputstring):\n",
    "    \n",
    "    sentcount =0\n",
    "    for word in inputstring.split():  \n",
    "        if word in afinn:\n",
    "            sentcount = sentcount + afinn[word]\n",
    "            \n",
    "    \n",
    "    if (sentcount < 0):\n",
    "        sentiment = 'Negative'\n",
    "    elif (sentcount >0):\n",
    "        sentiment = 'Positive'\n",
    "    else:\n",
    "        sentiment = 'Neutral'\n",
    "    \n",
    "    return sentiment\n",
    "    #return sentcount\n",
    "\n",
    "sentdf['afinn'] = map(lambda x: afinn_sent(x), sentdf['newtext'])\n",
    "sentdf['afinn'].value_counts()"
   ]
  },
  {
   "cell_type": "code",
   "execution_count": 49,
   "metadata": {
    "collapsed": false
   },
   "outputs": [
    {
     "data": {
      "text/plain": [
       "<matplotlib.axes._subplots.AxesSubplot at 0xe5fc748>"
      ]
     },
     "execution_count": 49,
     "metadata": {},
     "output_type": "execute_result"
    },
    {
     "data": {
      "image/png": "iVBORw0KGgoAAAANSUhEUgAAAXEAAAEjCAYAAADEwTFYAAAABHNCSVQICAgIfAhkiAAAAAlwSFlz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\nSUVORK5CYII=\n",
      "text/plain": [
       "<matplotlib.figure.Figure at 0xe2c6080>"
      ]
     },
     "metadata": {},
     "output_type": "display_data"
    }
   ],
   "source": [
    "%matplotlib inline\n",
    "import matplotlib as mpl\n",
    "import matplotlib.pyplot as plt\n",
    "\n",
    "sentdf['afinn'].value_counts().plot(kind='bar')"
   ]
  },
  {
   "cell_type": "code",
   "execution_count": null,
   "metadata": {
    "collapsed": true
   },
   "outputs": [],
   "source": []
  }
 ],
 "metadata": {
  "anaconda-cloud": {},
  "kernelspec": {
   "display_name": "Python [Root]",
   "language": "python",
   "name": "Python [Root]"
  },
  "language_info": {
   "codemirror_mode": {
    "name": "ipython",
    "version": 2
   },
   "file_extension": ".py",
   "mimetype": "text/x-python",
   "name": "python",
   "nbconvert_exporter": "python",
   "pygments_lexer": "ipython2",
   "version": "2.7.12"
  }
 },
 "nbformat": 4,
 "nbformat_minor": 0
}
